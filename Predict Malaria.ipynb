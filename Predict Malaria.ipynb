{
  "cells": [
    {
      "cell_type": "code",
      "execution_count": null,
      "metadata": {
        "id": "MCnB1Y8lScMR"
      },
      "outputs": [],
      "source": [
        "# import library yang dibutuhkan\n",
        "\n",
        "from google.colab import files # untuk pengaturan files pada google colabs\n",
        "\n",
        "import matplotlib.pyplot as plt # untuk visualisasi\n",
        "\n",
        "# framework machine learning\n",
        "import tensorflow as tf\n",
        "import tensorflow_datasets as tfds # tensorflow dataset\n",
        "from tensorflow.keras.backend import clear_session\n",
        "# code disini -> import models, layers, dan optimizers dari tensorflow keras\n",
        "import numpy as np\n",
        "import os\n",
        "import PIL\n",
        "\n",
        "import zipfile\n",
        "import glob\n",
        "import warnings\n",
        "\n",
        "\n",
        "# Library u/ machine learning Tensorflow\n",
        "from tensorflow.keras.preprocessing.image import ImageDataGenerator\n",
        "from tensorflow.keras.layers import Conv2D, MaxPooling2D, Activation, Dense, Flatten\n",
        "from tensorflow.keras.layers import Dropout\n",
        "from tensorflow.keras.optimizers import Adam\n",
        "import tensorflow as tf\n",
        "\n",
        "# Library u/  upload file gcolabs dan plot\n",
        "from keras.preprocessing import image\n",
        "import matplotlib.image as mpimg\n",
        "\n",
        "from tensorflow import keras\n",
        "from tensorflow.keras import layers\n",
        "from tensorflow.keras.models import Sequential\n",
        "\n",
        "from keras.utils.vis_utils import plot_model # untuk output model berupa image\n",
        "\n",
        "import warnings\n",
        "warnings.filterwarnings('ignore')"
      ]
    },
    {
      "cell_type": "markdown",
      "metadata": {
        "id": "ZmgHlB2aXdi0"
      },
      "source": [
        "## Data Loading"
      ]
    },
    {
      "cell_type": "markdown",
      "metadata": {
        "id": "DAvSnIcHRsr3"
      },
      "source": [
        "Dataset: https://www.tensorflow.org/datasets/catalog/malaria"
      ]
    },
    {
      "cell_type": "code",
      "execution_count": null,
      "metadata": {
        "id": "8qBlKe4zckwz",
        "colab": {
          "base_uri": "https://localhost:8080/",
          "height": 168,
          "referenced_widgets": [
            "754f331664c54245822fced9e1a24f22",
            "afe62c3dbed34e50909bad1cda6c20d4",
            "909d9dd2ead74266ad903b96b577a5e0",
            "4296656e88394414871fc80fd2774983",
            "be1df7d0cd6f4dafbf9270bfe5accc4f",
            "133faa05798d4779a3da231b99298447",
            "d196ce180ec0431686bbafa11cf02468",
            "ec99651982464a579574c74a7756b00f",
            "074086217ecb423f881206084b908cb3",
            "a793ed7776684e78974d84031f18e867",
            "5634ca21a3a54954b930066ab3faf833",
            "fb084563e7fa423e8736ea234628e18d",
            "cacf5166b7b54761a4d015126d2b0711",
            "77ecfa2992264961927342f07285cfa8",
            "90d29fcec06b4313b1d66526b51f8556",
            "ad9550d33541496dac0db5185fa1f5e3",
            "ccdf018396bc48bc88d698f306bc9dee",
            "9bda48e09a3349bfbd5bcbd0234751ed",
            "74530fd348534ee48ac91a731843c23a",
            "36d73ab664a04610a70837125511cb39",
            "28a6d75b20ca4561a82a69e2345a6f9b",
            "f19df7bf4fe94103bae87437d4895854",
            "a17cf4e9f3be407a97d485b65de58448",
            "1aea5178da1e497e9dfececd0d019134",
            "2496c988b607456c962101af95bc228c",
            "64287d2d9b8b474b969870a32d782730",
            "9133c1b1195d4581bdd0c16541d78da3",
            "08d472088e2e4ee7ba82bce459451ebe",
            "762bf193c08c4fe683907f8e2d59b9b3",
            "ff4a760651034daaab1ccb2756947a8a",
            "14e8260e285f426a82134df241da148b",
            "31d9669d059445ca934ca244a4455f17",
            "dc264f6600864728b2b599152f9246ae",
            "65d25259850c4ae0b01ce0f56056840c",
            "2dcbd81810e345c8a16ba5b601935050",
            "70c42596d0b343fea912dcca70e3d6a8",
            "834d206954ed4f0b80a54669e9af2e7a",
            "f4ff702f458947159568f47e559441d9",
            "65cbda4781af44d6b7bc026fc1136671",
            "eae23d3bdcf7412fb5c3bd86383db450",
            "858a7559ec1b413da4513945b721dd45",
            "6119c5dacc8147479eeef88bf7e2efd4",
            "f020a4e4bb334ed49cbc145d77225cf7",
            "c0efc84aa1744f1f8484c8725630c18c",
            "c06c952a428d446aa82c9a78720441ad",
            "16cb0ff305304ca1a1eb6d573fa1e54a",
            "d7d3c18f4974445fad45b2b5ba4ce280",
            "6a6eae4da1414c248e94088239d10dc6",
            "331a0e04229f42cda1b2b4cbac68af16",
            "b6c3b5012fdc483bba2163d4c73a03ce",
            "b3f13e1f904e4d45a214ce283b70e33e",
            "1bbb5545e3524029b980aeef3a97de14",
            "8951463abba4465a98abb862891f8a9d",
            "5015a20e8bdf4f53b8c412b0a1bdf8f8",
            "53d6524aef954d8b982ecdbf290509a7",
            "132bba80a5944c1bbfe8332b63a58969",
            "a16dd82980c04cfa962b4a0c6644f5c6",
            "73fe0d065ee64804a78df1ee0a08ea44",
            "b8ba1e55db9c4281b16dc019ae23fc5e",
            "d25b9dc43c714e3f8d74e723d8767fdb",
            "cdcc49b73f1d40d2b51320c689662e11",
            "a64f6ba747d94740a653887fdbe576f7",
            "8c28be64488c45119ac904d0826c22f2",
            "50696e96c12249e480de8af50ea9feb5",
            "2ddc9f23cb5f46e6b848da3a6cf4f01b",
            "2f7af9d2162a41e3a8697e95d098d932"
          ]
        },
        "outputId": "3dfd2201-01c1-4352-f5b2-ccdd46c669ff"
      },
      "outputs": [
        {
          "output_type": "stream",
          "name": "stdout",
          "text": [
            "Downloading and preparing dataset Unknown size (download: Unknown size, generated: Unknown size, total: Unknown size) to /root/tensorflow_datasets/malaria/1.0.0...\n"
          ]
        },
        {
          "output_type": "display_data",
          "data": {
            "text/plain": [
              "Dl Completed...: 0 url [00:00, ? url/s]"
            ],
            "application/vnd.jupyter.widget-view+json": {
              "version_major": 2,
              "version_minor": 0,
              "model_id": "754f331664c54245822fced9e1a24f22"
            }
          },
          "metadata": {}
        },
        {
          "output_type": "display_data",
          "data": {
            "text/plain": [
              "Dl Size...: 0 MiB [00:00, ? MiB/s]"
            ],
            "application/vnd.jupyter.widget-view+json": {
              "version_major": 2,
              "version_minor": 0,
              "model_id": "fb084563e7fa423e8736ea234628e18d"
            }
          },
          "metadata": {}
        },
        {
          "output_type": "display_data",
          "data": {
            "text/plain": [
              "Extraction completed...: 0 file [00:00, ? file/s]"
            ],
            "application/vnd.jupyter.widget-view+json": {
              "version_major": 2,
              "version_minor": 0,
              "model_id": "a17cf4e9f3be407a97d485b65de58448"
            }
          },
          "metadata": {}
        },
        {
          "output_type": "display_data",
          "data": {
            "text/plain": [
              "Generating splits...:   0%|          | 0/1 [00:00<?, ? splits/s]"
            ],
            "application/vnd.jupyter.widget-view+json": {
              "version_major": 2,
              "version_minor": 0,
              "model_id": "65d25259850c4ae0b01ce0f56056840c"
            }
          },
          "metadata": {}
        },
        {
          "output_type": "display_data",
          "data": {
            "text/plain": [
              "Generating train examples...: 0 examples [00:00, ? examples/s]"
            ],
            "application/vnd.jupyter.widget-view+json": {
              "version_major": 2,
              "version_minor": 0,
              "model_id": "c06c952a428d446aa82c9a78720441ad"
            }
          },
          "metadata": {}
        },
        {
          "output_type": "display_data",
          "data": {
            "text/plain": [
              "Shuffling /root/tensorflow_datasets/malaria/1.0.0.incompleteXFV2S4/malaria-train.tfrecord*...:   0%|          …"
            ],
            "application/vnd.jupyter.widget-view+json": {
              "version_major": 2,
              "version_minor": 0,
              "model_id": "132bba80a5944c1bbfe8332b63a58969"
            }
          },
          "metadata": {}
        },
        {
          "output_type": "stream",
          "name": "stdout",
          "text": [
            "Dataset malaria downloaded and prepared to /root/tensorflow_datasets/malaria/1.0.0. Subsequent calls will reuse this data.\n"
          ]
        }
      ],
      "source": [
        "dataset, dataset_info = tfds.load('malaria',with_info=True,as_supervised=True,shuffle_files=True,split=['train'])"
      ]
    },
    {
      "cell_type": "code",
      "execution_count": null,
      "metadata": {
        "id": "ODhNmEOVcwlh"
      },
      "outputs": [],
      "source": [
        "# function untuk split data (pemisahan data)\n",
        "\n",
        "def splits(dataset, TRAIN_RATIO, VAL_RATIO, TEST_RATIO):\n",
        "  DATASET_SIZE = len(dataset)\n",
        "\n",
        "  train_dataset = dataset.take(int(TRAIN_RATIO*DATASET_SIZE))\n",
        "  non_train_dataset = dataset.skip(int(TRAIN_RATIO*DATASET_SIZE))\n",
        "\n",
        "  val_dataset = non_train_dataset.take(int(VAL_RATIO*DATASET_SIZE))\n",
        "  test_dataset = non_train_dataset.skip(int(VAL_RATIO*DATASET_SIZE))\n",
        "\n",
        "  return train_dataset,val_dataset,test_dataset"
      ]
    },
    {
      "cell_type": "markdown",
      "metadata": {
        "id": "NuWl9eURYo1l"
      },
      "source": [
        "![image.png](data:image/png;base64,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)"
      ]
    },
    {
      "cell_type": "code",
      "execution_count": null,
      "metadata": {
        "id": "hCLlA0cwc4Lc"
      },
      "outputs": [],
      "source": [
        "# ratio spilt data\n",
        "\n",
        "TRAIN_RATIO = 0.7\n",
        "VAL_RATIO = 0.15\n",
        "TEST_RATIO = 0.15\n",
        "\n",
        "train_dataset, val_dataset, test_dataset = splits(dataset[0], TRAIN_RATIO, VAL_RATIO, TEST_RATIO ) # code disini"
      ]
    },
    {
      "cell_type": "code",
      "execution_count": null,
      "metadata": {
        "colab": {
          "base_uri": "https://localhost:8080/"
        },
        "id": "JzbJ4voB7mSD",
        "outputId": "2f803368-5011-472d-a1e9-ee3fe10679a6"
      },
      "outputs": [
        {
          "output_type": "stream",
          "name": "stdout",
          "text": [
            "Total dataset\t\t: 27558\n",
            "Total Training Dataset\t: 19290\n",
            "Total Validation Dataset: 4133\n",
            "Total Testing Dataset\t: 4135\n"
          ]
        }
      ],
      "source": [
        "print(\"Total dataset\\t\\t: {}\".format(len(dataset[0])))\n",
        "print(\"Total Training Dataset\\t: {}\".format(len(train_dataset)))\n",
        "print(\"Total Validation Dataset: {}\".format(len(val_dataset)))\n",
        "print(\"Total Testing Dataset\\t: {}\".format(len(test_dataset)))"
      ]
    },
    {
      "cell_type": "code",
      "execution_count": null,
      "metadata": {
        "colab": {
          "base_uri": "https://localhost:8080/",
          "height": 292
        },
        "id": "D8pG7twXfOIB",
        "outputId": "c44ec9d9-15fc-4d16-abcb-c960181adbd2"
      },
      "outputs": [
        {
          "output_type": "display_data",
          "data": {
            "text/plain": [
              "<Figure size 432x288 with 16 Axes>"
            ],
            "image/png": "[encoded data removed]"
          },
          "metadata": {
            "needs_background": "light"
          }
        }
      ],
      "source": [
        "# visualisasi dataset\n",
        "\n",
        "fig, ax = plt.subplots(4,4)\n",
        "fig.tight_layout()\n",
        "\n",
        "for i, (image,label) in enumerate(train_dataset.take(16)):\n",
        "  ax = plt.subplot(4,4,i+1)\n",
        "  plt.title(dataset_info.features['label'].int2str(label))\n",
        "  plt.imshow(image) # code disini\n",
        "  plt.axis('off')"
      ]
    },
    {
      "cell_type": "markdown",
      "metadata": {
        "id": "ZIFZvbPDCo-L"
      },
      "source": [
        "Sebelum melakukan tahap modelling, kita harus mempersiapkan dataset. Berikut pipeline dataset.\n",
        "1. Resize gambar jadi ukuran tertentu (height, width)\n",
        "2. Normalisasi piksel dari 0-255 jadi 0-1\n",
        "3. Tentukan batch size (jumlah image yang digunakan dalam satu iterasi)"
      ]
    },
    {
      "cell_type": "code",
      "execution_count": null,
      "metadata": {
        "id": "R6Q_UF64f1ni"
      },
      "outputs": [],
      "source": [
        "# rescale: normalisasi pixel gambar\n",
        "\n",
        "IM_SIZE = 224 # code disini -> ukuran panjang dan lebar gambar (224)\n",
        "\n",
        "def resize_rescale(image,label):\n",
        "  return tf.image.resize(image, (IM_SIZE,IM_SIZE))/255.0, label"
      ]
    },
    {
      "cell_type": "code",
      "execution_count": null,
      "metadata": {
        "id": "v34f8rcKgva5"
      },
      "outputs": [],
      "source": [
        "BATCH_SIZE = 32 # image dalam satu iterasi\n",
        "SHUFFLE_BUFFER = 128 # keacakan transformasi\n",
        "\n",
        "train_dataset = train_dataset.map(resize_rescale).shuffle(SHUFFLE_BUFFER).batch(BATCH_SIZE).prefetch(tf.data.AUTOTUNE)\n",
        "val_dataset = val_dataset.map(resize_rescale).shuffle(SHUFFLE_BUFFER).batch(BATCH_SIZE).prefetch(tf.data.AUTOTUNE)\n",
        "test_dataset = test_dataset.map(resize_rescale).shuffle(SHUFFLE_BUFFER).batch(BATCH_SIZE).prefetch(tf.data.AUTOTUNE)"
      ]
    },
    {
      "cell_type": "markdown",
      "metadata": {
        "id": "sIdzh2HaMmW_"
      },
      "source": [
        "Sebelum menggunakan pipeline:"
      ]
    },
    {
      "cell_type": "markdown",
      "metadata": {
        "id": "s7t5l0VxMjlB"
      },
      "source": [
        "![image.png](data:image/png;base64,iVBORw0KGgoAAAANSUhEUgAAArwAAACgCAYAAADuMb+KAAAgAElEQVR4nOzdd5xddZ34/9fnlNvL9JJMeg9ppJGQhBBCb4KACCqyqCz+bCi66K4ogvvVFRtgVwSRXaSIIj0kkJAQQnqBdCaZTCbT2+331N8f586QhoASk5l8no+HkuSW0z73fd7nU0GSJEmSJEmSJEmSJEmSJEmSJEmSJEmSJEmSJEmSJEmSJEmSJEmSJEmSJEmSJEmSJEmSJEmSJEmSJEmSJEmSJEmSJEmSJEmSJEmSJEmSJEmSJEmSJEmSJEmSJEmSJEmSJEmSJEmSJEmSJEmSJEmSJEmSJEmSJEmSJEmSJEmSJEmSJEmSJEmSJEmSJEmSJEmSJEmSJEmSJEmSJEmSJEmSJEmSJEmSJEmSJEmSJEmSJEmSJEmSJEmSJEmSJEmSJEmSJEmSJEmSJEmSJEmSJEmSJEmSJEmSJEmSJEmSJEmSJEmSJEmSJEmSJEmSJEmS+ilxvHdAOvGpauDfhKL8SPP5wHGP9+5Ih1MEppFzdDtPwOdX5BV6Z45tkzItWwtGVBXleO+OdDQCzFzKDqqKqqrq8d6bE1o2bziGohIIhBUZm09AQmA5eVfNZ52gP6DKK/T3JXK5Bhc6gPnH4vu1Y/GlUv9i28agqqHTigeOmY6RzR3v3ZEO4wsG2PXmKqrb3uSsUWNJGsbx3qUTluu6/KV2D4OnXYLuC4Arb0EnGqEo7HztMc4bUE7YH8CR1+ioIrrOqrq32OYfwCnTFsrYfALS/QH27t5AfP9azh8rY/PfoykKT+zcWZy1rLzpOMdmG8fkW6V+xhGnzLuWi790Mx2Nx3tfpMMVVcHPv/8DFrz2PX7xkY9AZ+fx3qUTluvYDL7/IS74wh+JxhXcYxNXpX+CpsFPr1vKzxbMp6q0Amz7eO/SiSke53t/+h0/rDibT/y/n9N+4HjvkHS4eBn88Tf3MfZvm2Rsfjc+Hyt/8QtaMhmzK58/JpuQCa/0XtjZVAftDdDd0na890U6jGOXYaU7SFoOdHZS1919vHfphCQAy7GxHJvulj3Y2RJcRyZTJxpV8+PYFvuSSRzVx7Gq7enrahyHTsPCySZob4CuZhmbTzS2UYaRbCNtuzI2v4uQrmM6Dq4Q5rHaxjFJeL94f/PPcIUfHNkB6zgRQgjHURGu8qN7Pl3yxvHeH0mSJEmSpOPlmCS8rqt+zvuTHBRyvLguIMDB/gsgE15JkiRJkk5ax6ZLg6ATlwi4+jH5fuk9EggUOZJBkiRJkqSTmqyClSRJkiRJkvo1mfBKkiRJkiRJ/ZpMeCVJkiRJkqR+TSa8kiRJkiRJUr8mE15JkiRJkiSpXzuJFp4QCCEAF7cwZ9ehf+95z9E/6+L2LkMqhDjoM4dvg3d4TToqITjqKafnHPf9c/nO5aXv+nvHJLw34LruIX8+GYijBpDD40zfI4SCdwz0xsi+fDwH67li73Q0wgvquO/hvf3Le7sf9j3evd+lEJ8QuP1oycV3u98c/Hp/vDf9PSdFwusVboGRS3Jg1+u07XsDzRekauQMygdPRNN82LZFsq2O7pa99IQz13FQVI2i6hHEyoYghCCTaKejYRtF1SMJx6tw7J5FQQTJ9v1kEy2UD5mEUDROlrD4j9J8Qdrrt9LV8haKUiiKroui+SmpGUMoWtZ3YyqgKCq2maN535vo/iAVQyZhmcdmycR/FU1RaMlk2N3ZydjSUor9fuzDLlJzJkNDKsVp1dXUJxLUp1JMqajApyg4ffmC/j1C4Fgmjbtex3EsLxkoJEnh4ipKBo5BEVqfvLEKRcU28zTvWU93Wx3x0sGUD5mEHoj06ZXqhBCYts2uri4AJpeXYxy0jLEiBLbrsqG5mcpQiBFFRbx24ABFgQBDY7HCY0z/pPkCdB7YRceBHSiqF5td10VRNYoHjiEcr4S+egZcl+62Olr2bsQfKaZ62DR8wQhOH1/RT1MU2rJZdnR0MLq4mPJQCOuwY+rI5djb3c30qipaMxn2dHczqbycgKb139h8kJMi4dX0ILUbn2PlY3eQzyYprh6Jmcuw7tl7GDn9EuZc/R0EsG3Fw2x48Vf4g3HvgwJwXUwzx+zLbmX2FbfQsOM1XvjNjcz/+F2Mn3MN2VS791YheGvdU+xa8xcu++pf8AX0k+rJ6R8RLg6z9MEHeOOVB/EFo4WaFAAXoWjMvfp2Rk6/FEVR3k58ReFpvKeWXlEKl8k9KJk4+Am+8GfXOeJ6CKEcVF3lHPLU2xPMhVBw3nV7RxKKhqLp7Nm8iKUP/gfTLrqZgWNO7/MJb0jTeLOtje+uWsVd8+czYMAAUqaJIgRKobZgWX09v9+yhbXXXccD+/bxy40befryy4lEIuQsCyFEb18qp5AU9nWKopLLdfDMz65H0TRU1df7mm0b1Iydy4LrfkikqKpQBt6uKnULN6WDy6P3b0eWR4RSeP2wRFMIhFB6U5CDXxdC8X4LPbW077K9g+nBMJ0HdvHS/V+mo3EnpTXjadv3BpXDpnLmdXcRLR2I3UfLtCoECcvi/jfewHFdHjj/fNqyWQReshvQNBKGwdeXLePKMWO4c948vrliBfMGDuTrp52GqihYjoNSaKVyod8kDeGiMK898Tjrnrnbi82K0hubHcti9pW3MW7eNaiqiusUWuKE8h5i80HlsTc2HxlLD43NB70uBOKg2HxwXBeK+vdjsxC4js321x5l7VM/IVpSQy7ViS8Y4ewb7qWkZiyWkf1gT+S/UEjT2NXZyTdXrOD200/nonicrnz+kHi7vqmJ769ezfJrrmFNUxN3vvYaf770UobE4+Rtu1/G5oP1+4TXFwxzYNdqFv/u8wwYO5d519xBKFqGbVvUbV7Myw98hWjZYKaccyOZZBvBaDkf/+6rCEUgFBXXsXnpD7fw6mN3UjNuHr5gFDOXwbWtt3+QBbZl9ukfzL+aEJDqbCBWPpjLvvo4oWgFtpXHyKVZ+uAtrHj0dqpHziRSOrD3fFtGDlXzo6gaQigYuSSObeELRFA1H7ZlekHQcVB1P5aRxTJy+EIxFFXDsS0AVM2HZeSwzCwCgR4Io6g6jm3i2LYX4AEzn0bVdFTND4rAzKawLQNfMIKi+t6uzTvkuARmLsm2dU+z8tHbyaW7D0pa+raMZXFKWRl3zJnD0HicrGWhKwqG45A2TXyF85a1LARgOg4Z0+wNnLqiYLku3YaBKgRRn5cYmo7T58+OV7Zczrjmvxk5/RJc10FRfexa8ySLf/c5YmWDOe/Gn5BoT6MoGrZp4LoOquYrlF0DM5dGCAVfMIbr2riOg+PYXjIrFIxMN4rmwxeI4NgWjmOjajoUWrAcy0TV/eiBMK7j4DoWtm2gat5vQQiBouq9Zd3MplFUzautdZ3DEmUVn8/Pqie+R1fzW1z+tScoHzyRtoZtPPG9i9m6/CGmXXgziqr2yZpe23UJahr/NmECLpAolElFCFKm2VsmDdvGKCQDWcvqrQUWQuBTVdKmiWHbBDWNgKpi9PGaQvCOLd11gGCkhCv+61miJQOwzTy2ZbLsof/g1Ue/RdWoGZQPOgXbyiEUBTufQdF0FFVDESpGLoVtm+j+MJrux7YMLxl1TK88mjksI4svGC2UR+/3o2o+LDPfey/V/aHe8uo6tvfQJwRmzovNiuZDUQrbM/PoAW97jm0dUskhhEK6u4m1T/2ECQuuZ+oFXyDV0cCLv/08yx7+Bld/63ksI0efrLXGi82jiou5c+5cxhQXkzJNdEXBdBySpolPVUEIMpZ3D7Rc94jYbLsuCcNA6WexuUc/T3gFut/P+md/hh4Ic/oV3yRePhQrn0HTAwyddA6Tz7mRXKqzt6+homjogTBCUXBsi0hZBePnXcv2lY/Suu8NqoZP95Kho3RuEoVaFul9KNyAdX8YPRBBMRSCkVLGz/sYezcvJtFWR6qzkURrHaaRpX3/VsbN/RiVwyZT/+ZS9m56ETOXpmzIREbN/BDR0hra67fRsHMVgXARidY6Ohp3UjnsVEZMvQh/KI6LS2fTW+zd/CKJ1jpwbCpGTGXk1EvRg2H2b1tOV8te9ECI2jXPMOX8mxgy4Sz2bHyBPZsWkc90UTpwPCOnX0y4qPqQpFcIBdex2bnqCda/8HNGzvgQ9dteOajrS9+mKgpJw2BnZydDYjGqQiGaMxmerq3lrc5OBsViXuJQSHx7assAfIpCcy7HC3v2sK65mYCmsWDwYOYOHOglwv0hUVBUND2AXkhIdX+YEVMvYPOwU2nZs4FEWxt7Nj6P6zo0792MPxTj1HNvwjbz7Hj9z7Tv34am+Rky6WwGjJ6F67oc2PU62e5WVN3PgZ2r0AMhRky9iIqhU1AUBcs2adi2nPrtK8gnO/GH44yceTlVw07FcV22Lv8jxdWj2P/mMlTdz6nn/3/k0l3Urn+G9v3b0QNhBk9YwMAxs3trzQAURSGT6EIoKlPO/SyVw6aSzyQYOOpUSgeOp61uC2YuSSBSgkvfS3gFXi1WfSIBwMyqKgxgdWMjT9fWogvBrAEDUIRAL5RnRfSM/fA+/2ZbG4vq6ujIZhkci3H+0KEMjEb7RVn2amm13tgsEIRi5UyY/0l2vP4EieZaXMukvWEHjm3Rum8To067nIGjZnJg5ypqN7yAkU1QMnAso2Z+iHjFUDoO7OLA9lfRg1HSnY201b9B2eCJjJp+KYFoKbgOifZ97Nn4It3NtTi2SdngUxg1/UP4w0U01a6jtW4LwXg5u1Y9wcQFn2T4tIup27yE2g3PkU22UzxgFKOmX0qsbLCXJBdis+s6OLbBhDOvZ/yca/H5Q8TLh1BcPZL6rUsxszkUVcGx+15ZBi82p02TnR0dDAiHGRyL0ZrJ8MyePWxra6M6HEZVlN54fHBs1lWV9myWxXV1vN7YiK6qzKupYcGgQfgVhXw/SXr7dXam6Dqpjjaaa9dRM+4MoiXV2Fa+8JRpo6gap112K2dccyd2oeYPAaqqo2o+FFXDyBm0N2zHdWwCkVKcPliTcWLzglHPOReKhmlk6DiwE6Go+IIx6t9cyisP/xdrn/4xnY27SbTuYeeqJ3j63uvIJtsJF1ey/rl7WXzfF3DtPPlUJ2uf/jHP3HsdHY07iJUP5tVHb2fl49/FNLNkOhv5612Xs3vt3/D5Q+RzKZY99A1WP3UX4aIoB3a+zuLffY4tL91Pe8Ob5FJd7FrzJM/cez3dzbXESwezeclvWXL/zaS7mtA0/yHH4zg2lcNO5cO3Psmksz/t1Vz0k6bOgKqys6ODH65Zw/5UCl1V+cby5fxm0yZcYH1zM/dt3ox62ANhUNdJGAa3LlvGD1avpiIUImdZfPbFF/nDG2+gK8oRn+mbBIqqeq0Cqg44JNv2k+poIFI6CDOfZt2z97Lot59lz4bnSLbtI9XVyJL7b2bds/egan6MXIpFv/0steuexXVs9m1ewksPfpW1z9xNuLiK5j0bePLHH6Wxdi2RkiLW/PUu/nLXFeSS7RRVDqN+2wqe/NGVNO/ZgC8YY8Pzv2DRbz/H/p0raaxdSzbZzrI//gebl9yHLxQh0baPRb++ke2vPY4vGO09Etv2WkvOvfGXTDn3JrKpdvRAiM7GfbTt30pR1Uj0QBj6YL9k8Lo05GybR3fs4JEdOygNh3mxro5PPPsse7q60DWNX2zcyFvd3cT9/kM+61NVVjc28u+LFvFmayshTeO52lo+v2QJLZlM/7ixFgYN98ZmVcMy87QfePt+2LhrFa8+8i1e/+v3aN+/na6mt6jduIin77mOZMd+QvEK3nj5fl741b9j5bOYuSTrnr2Xp+/5OC17N1FcPZJVT3yPpf/7dcxcEjOX5skfXsXW5Q+hal6t7muPf5eVj9+JPxSjZe9mltz/JTYu+iVt+98kk2ilbvMSnr7n47Tv30px1XC2Lv9fXvj1TXS37kXzBQ85nljZYKZf9CV8oSjtDTvYvvIRGna+xrg51+ALBvpssgsQVFX2dnVx15o17O7qIubz8a2VK/nxmjVYrsvWjg5+vWkTVs9g4gK/qpIxTb6zciXfWbmSkkAAx3G4eckSfr5+Pbqqoin9okT37xpeRShk0l0Y+TSx8iFo/iB2oTq/R08TN3jN3PlMFxsX/wZF1bHNHB0HdrBtxcMMmbiQYZMX0Lhr/b/6MPo1zRci293ClqV/wB+KY2QTdLfsZedrjzFm1oeJlw3pTRgv/+qfqRo5lQM71/C3H1/NKWd8gvNvugcBDD/1Qv7ywyvY8OJ9DJ98Hl0ttUw+61MsvOEefAGd0gHjeO4XNzDm9CtwbIuqETO48PN/IBQLkezoZNFvPkvdliWoGl4zsapz+hW3MXHB2dRvfYuHv3Umo0+7jPM/+ytcB8af8QkevHUau9c+xZSzP4NQFK8JuTCwo3zoJHz+MPt3vna8T/EHrqfGy68oLK2vZ2VDAw9ccAFn1NSQNAw+s2gRuwsDgXpEdZ2Hd+zghb17eezSS7l4+HCEovDll17iFxs2MK2qilkDBpDI983+oIBXBmyTvZsXk0m249o2uUwXteuewTHzTD77BlzXpqtpF8OnXMCHb30CfwgW3/dt6rcu49KvPMrQCWdiOzYr/nQbq5/6IZWjpuO4Npru44LP/o6KoZNILriBv/3ko6z+y/8wYNQskp0HWPCJH7LwU7eQz8DQSefyv98+g7aGrQw6ZT4IQfmgCVzypYfwhWNsfP5XNO5ew1W3vUBJ1Sgcx2L5w//FykduZ/TMy9C0ALZt9B5XTx/dQLgEI5fg+d/chKpqjJ/3MXyBCGY+c7xO+QdCUxR8qkp7Os2vN21iSkUFT19xBQGfj7/t3MmVTz5J9qBESBQ+8/3Vq5lSUcGPFyygyO+nLpHg2qef5jebNnH7nDnkDrvX9DWaL0Qu08Wbyx7EHynBzKVItu1j64r/Y+S0SyitGUdr3SZMI8PlX3qCIZPOoq1+G0/95KOMmHYxF37+PhQFxsy+gr/84MOsefqnTDzzOrpaaxl7+kc4/7O/xh/2Uz74VP76oysYe/pVhONVFFeP5rybfk1RZRWZrhSaL8iezS8iFHAdC0XVmHHRV5hy3mU07drHI3eey6BxZ3DZ1x4BYOJZn+L+Wyaz9ZX/ZfZVt6Eoam9FVU//XjOfYe0zd7N95SOEi6oYOf1SjFzfjT09RCE2h3Sd5Q0NLNqzh3sXLuTSkSPJWRZffvllXt6375BOGyFdZ1FdHX/euZM/XHghHxk9GqEo1ESj/Gz9emZWV3Pu0KF05HLH7bg+KP064QVQVB9CCGwzf9RBZELV0PQAZj6NpvvJp7tY+8xPC33wBbo/zNg5H2XGxTcTKS3B3JLyPneUrgtCUftNTd6/iu4LkUm2sfGFX4BQEULgD8YYf8bHmXHpV9H9YVzXIVIykFjFcEzDJJtsp7tlL7lkOy/d/3Uc18G1bTLdLbTu28KgcfOIFFUzYPRsdL9OqrOdoZPPIRApprVuMzMuuYXqETN5a91TJNv3k0m00FS7jkC4GADLyBIrG0zV8KlkU9C4axVGLkmybT/LH/42+Uw3oWg5jm3RtHs1uTlX4w/GcHm7pqunf2V/pqsqK+rrGVtSwpBYjIxl4QKXjBjBj9as6X2fpqokDIOdHR0oQrC4ro4ldXX4VJXari4aMxkOpNO9/X/7KiEUbMvgrXXPUPfGy4D3EB0vH8LpV36TkdMXsmfjSjR/iLLBE9D84NjQWLsWoajsev0Jatc/g+s6JNr307pvC5nuZhRFpWzQBIqrR5FJthOKlzN8ynmse+ZubCPLZV97iP1b17DsoV9gZBN0NO3GsUw0PYAAbMtg6KSFCEUln+ykfttyNF+AN17+PY7t4AuE6Gp+i2yyjabdqxk6+TzsjHHIsQXCxaQTzTz38xtoql3HpV/6EyUDx2Lm+8eYBV1RqEskaE6n+fi4cahC0JhIMKOqiuFFRaSNt8+HpqrsSyapTyQIqCo/WrPG6+vruhiOw7rm5n5RI6b7QxjZJBsW/QpFUb1/C4QZM+sKZn7oVkLxcmzLIFxcRVHVSKx8DiOToG3/NooHjGbpg7eC6+C4DplEKy11GzHyVxCOVzBwzGx8QT+Jtg6GTJpPtKSa5rfWMe/a/+aiIQ9Qt+Ulti6vI5tsY//2ld5ANQGWaRAuqmTA6FnkUtC0ZwOZRBvZVDvLH/4O+Uwn4aIqXNuiec96solWgtEy74cGKIqGqvnRfAFmXPwlJi64nhWPfpun7r6Wq/7recLx8j4/sBi8WtvXGhoYEo8zqriYnGWRtywuGTGC5fv3975PFaK3G4TruqzYv5/XGhp6Y3NnPk9dIuH1/+0H+nXCa9smkdIKApESWus2Yxt5NF8Qy7EBgaIoNO5eQ+eBHYyccSn5bJJo2WCu/8H63hHN/rA3/UwunSCXshGqhpnzgryi0TvaVFHVQ/oLSe9NNtVOyYAxXPmfzxKKVeBYeQKRGK4DuXQ3tuUFH1E4v94oXAcXl3R3U2GgjoHqCzBh/nWMm3M12UQr/lAc1RfAscFxHCLxOKqmY5sGTbXrWfHwN+lo3IkvEKW4epTXNNvz3Os6aP4QvmAMXDDzWVzXJZNspbV+C1Y+R4fYyYQFn/T6dIv+NY/j+5GzLGI+X+8MDaoQFAcCh9QgKEDOtsmYJn5VpT6ZJG2aWK5LaSDAZydPZkxxce9gir7KLfTZXfDJHzJq5uU4to3PH0IP+cinc2STXtIkvMCBY+O1KFgmtmXQ3VyLq3gjyQPhYmZd/nX8oTgCgT9SXBgB76Dpmvd3wMylWfO3P/HaE99D0wNESgYQrxzmTfPXcxFcF18ojlA0XAysfBrHselo3Ilr27iugy8Y5fSrvoU/XHxI7a7ruoTi5XTUb+NvP/0o6e5mLrvlcWrGzCGfTdBXB/gcTgCmbaMqCnG/H9txsB2HokCAiK4fMvWeABK5HI7rkjJN3urqwnJdVEVhXk0N40tLD5nerK/KJtuJFA/g2jteIVIyAMvIEox4MxhlU93YplfjJ4Ta21Lq9ZM1ySRascwcrm2haj7Gzr6SMbOvIptoxReMofnCuDbg2AQiQVQ9gGOZtO/fxoo/3UbT3o3o/hDFlSPRfIGDBoM7aHoAX8jbD8vMgmORT3fSVr8JM++1yo6Z8xGqh09DoODab8fmfDaB1Z0hWlKDVhqkcngcRftvHrvjfHateZIZl3y5XyS8AsjbNjFdR+uZDlIIigKBQ98nBIZtkzYMfKpKQzJJ2rKwXZe438+NkyczubyclGEcfUN9TL9OeF3Lwl9UzIhTL2Ttc/fSuHsNY2ZfiGlEUASkupp55aFbSXU2MmL6Jd40KSje4DNF4FgWmUR7b62toukUV48CXBp2vMrksz9GpLgc1/ZmaGjcvRp/uLh3hL/03iiKihCF+ZIdm3RXOwdP2wQcVHPecy18nHbZ15lx8Tnk0pDPwq7VLxEpGUC2u5XuljqyiXb8YRBKOR0Nu0l3txItq2HdM3fT3VbHR7/9EgPGDMPKw+Pfv5aO+q0HzYTjjVh3bI1I8QBUVWf6xTcz/+PXkOny9mLb8pfwh2JoevCkTHgdx2FILMafd+zAdl2KAwHyts3Ojo5D+ohZrkvc50NXVSI+H49fcglKJALAgZYWVh44QNTn6/NJgtfj8e1FbYQAI5cin/XKhr9wk+55J3jFuqcW+MPf+BvFVQqWAW37u2jY8RqhaDm2bdLdVIuq6fgC5Tg2NNduIFo2iPaG7Sx54BamnncTF3/xp0RLYceq3Wx/9RFs2+ydGMSbRcFFCIhXDsPIpvjot/+G7gdFhdZ9ndS/uZTiqpHYRr6wby6BSBGd+3fw1D0fwxeKc80dr1BaEyebBJcoRjbRLx7ybdelLBjEcRw2t7URCIWoVlXqEwn2J5OHtD44rsvAaBTbdfnE+PF88bTTvFjlOCzbswezkCz3eQLUwhy8QvGmAksffD9Ue9IH95D/94ViTD3/c8y+8irMLJg52L12Bf5wDNs0SLbWk+lqwh8GlHI6m5pIdjQQrxrBhhd+RdNba/nwN55i6MQpuC48fe/N1K5/rmdGvt4xOI7lEo5VoPqCTDjrBi787OdIdXqTOGxbsRxFUfEFI7iu1XtArXVbWP/sPVz4ud8TKqpCKGBm0yBcNN1Hf3mAsxyHofE42zs6yFoWxYEAOdtmV0fHIUfouC4Rn4+Qz4dfVfnjRRcRLioC16W1vZ2l+/b1xvX+oF8nvAhBpivJ9ItuZu+WJbzwm3+no/ErlAwYg5lLseO1x2mrf5MLP3+/163ByGBkEzi2hXCVI5qkrXyW0oFjGDvnaja88Es0f4ghExZi5TPUb1tO3ZYlLLjux2h6AOgHAe8YEwqY+Qz5rDedkmPbR+0GYJk5jFyq8GeD0oFjGTpxIc//6jMI5XeE49VsWvxb1j17N2d/+mcMnXgO4LLuuXuIFFcTKxvE8kduo6hyGAPHzGHfG8twHZtEax25TBf73niZbcsfprRmHI4NlpnHyCVBCIxsjprxp1M6aDxL7vsiiuqjdOAYatc/y9KHbmX+x77PlHNv8qaQOvzGX0jgjWwS2zLeYdWivkUIgeU4JA2DrGVxwdCh3LV6NT9es4Zrxo2jMZ3mlxs39o5mN2ybrlwOTVG4YtQoHnrzTS5/8km+MWsWtuNww/PPsz+Z5OkrrmBwNEqiD9ckuK5LPpPANnNelxb7sBprIXAdByObwDbzCAG5tMnk827i6Z9ey/O/upFJCz+FmUvz8gNfJZtu5yO3LUIoKi11m1j+yLcYM/NKGnYsZ9frf2buNd8lGCsDHMx8mrb6Bnavq2PN337i9bt1HFyXQvkzARdFURl26vlsWfJ7nv/lzYw5/WryqQ6WPnQr6a4mPvWTN1A0b8o0Vfdjm1kW3fc5mvdsYPYV/8WeTc/zxtImHMemZMAYqoZPQ9V8ffaBz8WbzilnWQwtLmbhkCE8+OabnDVoEOPKyrh/yxaaMxkCmgZCkDIMUqZJeSjEh/tqjN0AACAASURBVEaM4M7XXkMRgvGlpaxtauLWV17hi1OnMrG8/IjxIn2JULyuXflMAts2cRz7yPIMhWkkk7iui2ObREprGDn1Ipbc/2U0X5BY6RC2rfwTq574f8y95rtMnH8dKAqblvyW4oFjKK0ezfJHv0UwWsqQSQvpaNqF4zok2/dTtxn273yNLS/dhy8QwzEdbMvAyCYBgZnPUTVyBlUjprPswf8gFCmjYsgk9m5ZwuLff4GZl36NOVfdVpiezJvazx+O0bBzFUse+DLTLrqZfLqb1/58J6F4JSOmX4KRTf/rT/YHREBvbE4aBucNHcq3X32VH61Zw6cnTaI7n+dn69fTlcv1ThnZlc+jABcMG8avN27k8ief5PbTT0cAn1u8mA0tLTxzxRWMKi6WfXj7AsvKEikdyHk3/Ybl//efrHn6J/iDcWzbRBEKC67/MaNnXUk20Uq0dBBlg8Z7HzxKrYXr2phGltOvug3HNtny0u/ZveZvgMA00ky/+Muccsa13gTc/bz/5gfBNiFeMdSr4VXUd7xpRoqqKR0wpvCZPOGias649r9Zcv/NvHT/lwnGykm01TPrw//JtAv+P/ZtWUa42OvHtfHFX2Pm0xjZBPM//j+Ei6qYuPAGupp2seKx2wnFyhGKxri515DubKK7pZtY2SBKB47FdWwsI0sgUsTCG+7mpQe+wquPfJto2WC6Gndy2oe+xsSFn0IIgWMfue+uY6P5gpTWjCcYLevTI4B72I5D1OdjfFkZPk1jeFER35kzh3vXr2dnVxdBTWNKRQV528ZyHEqDQU4pLSVhGMytqeEH8+dz78aN3LJ0KRnDQFdV7r/gAiaVlZHsw8kuhcGKFUMm4g8VHT1+ODaaz0/ZoAmEiyqxbZd8OsHIqRcx76N3suGFX9G+fxsAeiDCWf/2Y4LhEhShEIyW0LB9JU2715LuamLMnKuZuODfsM0cMy/5KttefZh0dxsIiJcPoXrUaRjZBPl0NxVDJhKMFOM6Lq4rqBk7l9M/8m3eXPoHWvdtxch0EQjFOfvTPycYrSCbavcGv/iCNNWuwzJzxMoG8+ayB7Hymd75sMfNvZbywRPQfMFDmo37ElUIhsZi2IVJ9m+eNo2WTIbbV65kYDRKWTDItMpKSgIBLNtmdEkJA8JhUobBLTNm0JHPc9+WLUR8PjoyGa6fMIEvTp1Kvg8nuwC2AbHSQZTWjPf67x6txtp1CUUrKB04zhsYZpsEwyXMvvI2sg98hVce+gaheAXJjv1Mv+hmZn/46zTtXE04XoFl5ti8+D6sfJpMspUzP/EDYqWDOGXex2ir28KqJ75PpKQagNGnXUlX4y66WxuIFFVRVjMe17WxDAN/OMaZn/gfXrr/y7z66O3EK0fQ0bCdU8/7LDMuvQWE4k0b6U1CR/ngSZzzmZ+x+sm7WPGn28hnukEIzv3Mz4mVDSbT3foOy4Of+OxCbe340lICmsaASITvnXEGP1y9mjtWriSo64wuLaU4GMQBivx+TiktJWvbnFpRwY/OPJMfrF3LV5cuJW9ZZCyL+y+4gNnV1XT14cHEBzsmV/YL97d14BIBVz8W3/9+uY5DMFqKZeVp3LWK7hZvupIBo2dRXDmMTLITx7ZIdTZi5VMUV4/mnZZNdB0bf6QYXGiqXUtnww6EplM26BQqh55KPtN9As25KsAV5937qdJF/+QXffP0K2+786zr76C7pe0D2TMAVQ/S2bgT28pTVDEcRT3K0qsuZBLNGNkURVXD6SmyvlAMK5emduPzZBOtVI+aRfWomagq7Fr9HM/94nrmf+x7lA+dTOOuNQybch7R0hqMbBI9ECbRVkfD9pUIRWXwhDMJxSpo2P4qRVUjsPIZcpkuSgaMwXW8acbCReUY2RR7N71IsqOBiqGTqRk7BzOfwTJyRw2SQlEw8xkSbfsIRkoJF1UetZbknxUrL+OPv/o689b/koc+/u/UdXd/4NvooQpBVz7PgXSaQdEoEV2nOBBgW3s7a5qaGBSNMrWigm0dHYwrLaUlk6E1m2VEPE5Q14n7fOzs7GRZfT2aonD2kCEMjETozOVwOLZLc3g1IDZzHv8rF975OpFoyQf4YCpwbJPOxl1ESgYWui8cGj8URcXMZ+hu2UswWkKkpMabtF+oBKMltOzdTOOu19F8AYZMOodQrJxMopXX/vxdWus2c9EXH2LPxueJlQ9hyESvZUkoCkJR2b9tBW373qBk4BhGzbiQ1n07yCXbiFeOoLtlD6FYeSFuuSiKgj9SQsuejTTtXosejDD4lPmEi6q8G37PnLOqTjbZRrKtvhDTelYv9Lr8BKNlREtrEKr2gQ7WVTU/998ykUULZ1JTVIp5jLoHCLzuNgdSXuvRsFiMoK7jAs/X1tKSyXDxiBEkDAPbdRkcjfJmezsRn4+qUIigrqMAyxsaqE8kGBqPM3fgQPKFhSqOtZpolG889Qi/LT2TL3zzj3Q1f4CxWQuSaH2LfDZFUdUIVE3vXaHvbYJsopV8uot45TBv0Dbew5pjGezZtIh0VyOVQ09l4Ni5qBrs2bCEZ352HTMv/RpDpyykbssrDJt8DvHKERiZbvRAmHRnI/XbX8WxTWrGziVeMZSGbSuIlg/GtS2yiTaKB44B17sfB+Nl2GaePRsX0d26l/JBExh0ynwcM4+RTx8ywFwIhUC4iLb922jYsRLdH2LwhAVESweQ7mz5wLsjRkvK+MvD/8OIxbfz1A1fOLaxWVFI5PPsTyYZEIkQ8/spDQTY3dXFyoYGykMhZg8YwI6ODkYWF9Odz9OYSjEsHiek68T9fvZ2d/PSvn0AnDV4MMPicTpyOezDpjI7FkK6zmkPPURHPt/ZncuVHItt9PsaXvASj1y6A1XzMWjcGQyZeBauC1Y+49WK4DXVllSPRFF176nvHfryCEXFSHejaDrVI2ZQM/Z0cL2m9lyqo8827R0PVj5Fac1YhFALzWLeYMJDCIiVD0VRdYxsovefjUwCVfczbs41KErh/Cc78EeKcF2bdHcLRi7F8FOnUTViGmYuU7iuXhNvtGQQExdcj+u6GLkUlpGlZvwZGJkEwWgpcdULwN5iJAqZ7jY03c/o0y5HUQSWaZLPJHAd6x1rBFzbRveHqR4xo7Cq0NET477Ecl1KAgFqolHShdWo2rNZhsXjjC/1kpOsZTGtspKufJ7qcJhh8TgJw8CwLNptm0HRKDdOngyFQT89TWV9+8y4qJrOgDGzsfIZbOvI2mrbttD8IapHzcQ285hGpnehh0yynZKBY6gYNgnXBTOXKpRXByOXIt3dTLRkIFPOuRHHtslnE7i2NyuGquoMmXgWw089B8u0SHW2EysfQqx8MGYuTdWI6VhGtnefHMchl2yntGYclcO8fpJmPkU20XbIDd+2DILRUmJlgwvJzMExUfQeQ1+dmcYFNCEYW+LdW5OGgZnPo6sql44c2ZtAlAQCWK5L2jSZWlHRW8azpommKJw1aFDvilYp0+wXi05YRoqiqpG9cde17aMstuQSLa0hXjXc62ZQKAdmLoWq+Rgz6wqEIrBNk1yqA3+oCNd1SXU1kc92M2TiRMoHTcTIZ8mnOwEvNgdjFZxyxscKA4bTmNkkA8fNxcgmUVSNeMWw3lguFIVsoh1V8zFq+iUoqoJtWeSzSVzbOmI2Jdd1yKY6Ka4aQfngU3oHfma6Wvv82BvLton7/QyIRMgUVv9ry2YZEIlw3SmnYDkOGcvi1IoKEoZBaTDIoGjUK/eFOF4ZDvPpiROhMHtDWzZbGJXQP5wUCa9HYFsmttX1ju94z/NJCoFjW70/OukfIxQVM3dwn6mj/6y8EbpHTn9km3myh42odUyDQLSUMbOuIFY2hFSHSS595HUy82nM/KH9tfLprsL2ckDukAAvhMC2DLLJ9sOP4h2Pr6cPb29w7uPJLtDb96u70MTVc0Rp0yRtvt2yYdg2ihDkbbt3wIMQAvco7+0vXNftLUNHI44oDwfdYF0XI5ss9E/soYBQqBw2FV8whpFNFppne7/Qa6h1LHKpzkO2ZRb6vANHjVPu0bZ3WPkUJ0Gc6ymP8PaqU5bjHNJfsaf8qkIc0cfcKvSD7G9EoTXi7X94h9hs5rxRaYc5Wqx0bINApJgxs66kuGoUqQ6LbPLI34tlZLCMQ+/FPb8r27F754V+e9e81pVsquOwg3ineOtVchgH/Ub6wwCLnvEVvbG5cEwZ0yRzWGwGb1aS7p7YXHjt8Pce/Fp/cBIlvNLJwMynKaocxpmfuAvNFyCfSb77hyTphOSgKBqjT/uwNyrd6dv9QqWTm5lPEymtYf7Hvo+q+8mlZGyW/rVkwiv1K67roGo+/MEYtmXgWGa/eHqXTl7+UAyhKIWWB0nqm1zXQVV1/EWVhdZWo1+0ekl9h0x4pX7Gm/qptzlOBlSpjztaf2BJ6ntE77K+0D+6eEl9S9/upS1JkiRJkiRJ70ImvJIkSZIkSVK/dkwSXtdFOVbfLUmSJEmSJEnvxzHpwysQTShuGEfR6S+LU/c5ruqCTwin/82ZI0mSJEmS9D4ck4TX1Mwz/HkhTE32Sj+efIYQRcVlh08c+w8RQkFR6F1NRzpxKAq9c7IiBKr82R2VANzCuRGF5aylE0/PdVELZdmR5fmo1IN+8zI2n5i82KzI2Pwe/CvOzTFJeH91XVXLsfhe6fgx8hkSiS5SyY53f7P0LyX8AtvMYdgunakMHekjF+mQ3l5a2HFd0oWFGj64pYWlD4qq+cF16crmCOnZY7a0cF8XECo5y8a28jI2n6g0gWVkMB0Zm99NVjdxXBfnGC7LLR83pHelKco3w4HQnZFACFvefE44qqKQy2VxFYtAJIBty2v0TlygvSNJaaQIRchhBieqfC6NHtYRirxFvRNVVehKpLENQVksLmPzCUhRFIx8DluYBGVs/ruEELS2J3Bsp82F8mOxDTkPr/SuLMfhxvFj+e+5c9iXlKvjnGgGRSJ86YnnWTxF5/af/hst9bKm52iEAMty+ME1v+S5hedTEg5iu3KIwYlGV1TmPvII1/36k1RUFWFbshb+aEqri/j5XU9S/fheHvvkVexLJI73LkmHqQ5H+O4Ly3hwQJr/+d1naan/QHoY9kv+oI/br7iHVFdGzaaOzSI7MuGV3hNVUdB1H7oqi8yJxqf7UISCEAKfruHT5TU6GiFAEQ4C0FUNXdVQZMJ7wvEVYoyuqfh0DVv2ezwqn66hKAIhhIzNJyifrqMKBSGQsfld+HTtmK8TdUzO/t0rbz/fcR3VVeTUZMeTBmCaq754xvda/9nvcgFcV065cQJyD0raXNc95O/SoXrOjXvQ/6QTS+81KpRlWZ6P7pDzImPzCck96LrIsvz3/SvOzTFJeBXHfk4BkC1Rx5UAFFW/GHjmeO+LJEmSJEnS8XKsamA7AfMYfbf0Prg48jpIkiRJknRSk10OJEmSJEmSpH5NJrySJEmSJElSvyYTXkmSJEmSJKlfkwmvJEmSJEmS1K/JhFeSJEmSJEnq1/rULMhCCHxBHU1TcV0XM29hGpb3ogtCFWi6ihDi7Qk2BdiWc8hqPZquAmCZ9hHfr+kqtu3gWN4SgEIR+AI6CHBsB/EOqzHbtoPjON72D3uPbTvYpt27kLPu07z9NyxvXw/evk/FNm0cR87X9364gCIEPkXBdl1MxzniSgkh8Ksq+cJa3X5VxbBtHDk3IqquoqrK0SemFd5vxbbsQ8rruxGKQNNULNP+p+ZYFEKg+zUswzqpfheaoqAK0VteD+dTvTiWsywCmoaAd3zvSeOd7gOHvMW7d7yvr3VdNJ93jg+/b7zn/VK8cqyoCmbeOqlWkBPvFpsBv6b1xmO/qmI5jlwJEVC1Qmw+GgG2ZWOZ7zM2F3Idy7Jx/8GYqmqql69YDpbx/n5Px0ufSXiD4QB6UGPftgO0HehC92kMHlNNcVWcRHsKp5CkZnImju2gKF4BsW2HaEmIaHGUZGcGy7TIZQwE3k3+YI7jkEmZqKqCoqkIvEDXsLsJIRTi5dGjFg7Xdb3PqIJM1sR1vVWdev4bLgoSLQ7T3ZrAcV0yqZwX/HTtoERAeNtPml4BV4ScSPx9UPCuX8KyvFXhxJHnz3FdunO53kSh2zTRVRXlZF/JyQUjY2DZzlHPhWlaBII+VE3hPd9/BL2/Ry/5UPhHlnkQQqBqCon2FJpPRTuJVirKWRaO6/aW18OlDQMXCGkaadPE/TvvPVkIBRzLPuI+0KMnJus+jXeouzgqRVEwst751jSF9/Nh13Hxh32EIgGa9rbR3ZZk0JgqQrEwqc4MjuMe8xWmjish3o7NQqAryiGRQAAO0FWIzYoQJAwDXVFkbAaMnIFtOUdNaC3TPqQS8L1yHYdsykTR3//9z3VdIkVhzLzJgd3NFFcWUVQZI9meOuEX1jjx7x4CfH6dfdsaeOp3S9n7ZgOhWAAzayJUwfyPnMbCq2ehR/y8tbmeZ+9bRmNtK+lEFlVVsG2beHmU6WdPYOE1swlGAvz15y8CgrOvnY0e0HEdF92v0VzXxjO/W8bEeaOZfdGpuI7Dvh1NbH5lO9tX19Jc347reE/6xRUxkh0psuk8QhHMvnAKE+aN5rnfv0LLvnbMvEXPmk7FFTHO/MgszrxqBu0HOnnsJ89TNrCEj371QjpbvPXPfX6NA3tbeOQHz3LRp+czdsYIcpn88TvvfUzE52NTSwu3vvIKV40dyxemTKE5k+l9XRWCukSCO1au5I65c3GB2199la9Mn8640tKTtpZX01TSiSxP/+ZlNizdhuu4hGJBIsUhuloSGDkvkbr4Mwu4+NNn0tHc/Z6+1x/wUbulnid+9iIf/sI5DDulBiP3PqeEFuAP+ziwq5nH717EJTctYODwShzH+QeOtG9RhODRHTt4ub6eexcuJKRpvWVUUxRsx+EXmzaRNU3uPv98bl28mLZsljvnzMGnqpgnwTk6mmAkwLbXa3n0x8/R3ZbEdV1Kq4uwLZtkRxrHcQlFA/zHfZ/ujf3vRbwsygO3/xnLcrj0388iGA14rXbvwnW97XW3p3jwzifZtX4vuk9D1RQuvvEsTj1zHPmsccInCv+MiKaxo6OD/3jlFc4eMoT/PO00GtPp3tc1RaExnebry5bx9dNOY0Akwi1Ll/LpSZOYXll50lb8KKr3kPX8AytY9dxGXMclEPYTK43Q3ZoslBs466OzuPqrF9B+oOs9fa/mU2mua+dPP3yWC2+Yz6hTh7znGlqvPAfZ/Mp2nvnd0kJMF8w8byILPz4bM3di1/Se8AmvQNC0t43ffvMxXNvlvOvmUloVx3FcNr6ynUfvehbXdrn26xeT7NzOhpe2MnbmcM6/fh6prgz+oM7WVW/x158vJhwLMv/Kmezb1ojtuti2iw+v3klVVXLpPNtWvUXl0DI0XUXVfOx5o549W/Yz57JpZBJZFEXQ2tDBiw+tZPq5Exg7Yzi5tEHN6EoyiSxvrtzF6ZecysCRlYWndsHmFTv443f/SnF5lBFTBrNtdS2Dx2Txh/y9x6lqglwqz/Y1tcy9bNoRtc/S32c5DmFdZ1Z1NTWRCHnba0b3aRpBTUMRgoxpsqiujltnzcJxXRbX1XH9hAm936ErCkFNAyHIWRZ5y3pfzUR9UU83nFPmjKJsUAnhaIANL29l8/KdnHnlTGpGV5HPGgwaU41l2mi65nVV0FWMrIFlOWg+Fd2noSgC23IwCrVrwbCfkZMHEwj7wfVq1WzbQdUUfH4d07C8B0PHPWqFWTgWZOe6PfzhO3+lcU8r5103933VyvVlrusyOBplWmUlqhA4rosQglChPKcMg/XNzaRME5/fz/rmZuqTSYDeGpuApuFXVWzHIVOoLe7vzLxFUUWMeZdPJ58zCIUD/N8PniJeFmP+VTPxBXQUVUHVVXx+Hcu08AV0bMshnzVQFAXdr6HpKi5g5kxMw8bMmwwYUYltOwhFoKoKAoHrOuh+HSHAyB3ZTUHTNfI5g7/+fDFrF23hyi+dR3lNCS//aRV/uOMvhGNBxs8aQaorc/QD6gcs1yWoacysqmJoLEbOsnpbI4Kahq6q1CUSLN63j5umTKE8GGRxXR2XjBjR+x1aITYrhdics+1+Hwpcx0VRFcbOGEa0JEwg7GPn2r2sfmEzcz80lSGn1GBkDQaNrsbMWV6XGwGaT8PImlimhaar6H797dicN70Wh4DOiEmDCcUCwEGxWVXQAzq2aXtx/LDWB03X2L+ziQfv+CvDThnI1LMn0LyvjcX/t5KiyjhTzhyLY5+4D9snfMKrKIKnf7sUI2vyhbs/zrCJg3BsB03XmHbuBMycyXO/f4ULb5iPP6Cj+TSmnDmOj9xyAe0HOlE1lYXXns7tV93Lqmc3MfWs8YSLgpiGfciFdF2vcIXjQa/PLl6f3X3bG3FdlwtvOIN8xsAX9FG7eR/LHlvN7ItPZeFHZ5HsTGPkLTYv306kOMzcy6Yzad5oXLyCNOmMMdz16ftY/pe1TJw3mnAsSCDsP6RguK73RKf7CsH2JLg5fZAMxyHu93PJyJGUBYOkDYOSYJCGZJKn9u+nJBCgIhSiKhxGFV4v65JAAF1REEBY1+nO53m6thbHcZhXU8OQeJy2TKZfJ72O7bVYTD1rPL6ATnFlHFVXvYT3I6cxef4YUl0ZTMNi18a9xEoiZBI5WurbGTSmmorBJXS1JHlj8z6yyTyVQ0oZPmkQZs4iUhxm6oJxxEsjpLqzJDtTlFYX0bKvnbc21zN0/AAGj6nGNG2vz/xBp1lRFJ79/Su89PAqoiVhIkUhhNp/r8PhXGBcaSkDotHeZuCAqrKysZGGZJLplZUMikbZn0yC4xD1+Sjy+72HdyEoDQbZ0NzM+uZmBsZizB84EMt1yffzRMHIm5RWxzn3ujkoiiBeFuPlx1ZRPayCiz+zgFDUj2U6dDR1sW/7AUqqitj2ei3BaIARkwahagpvbd7P/p1N+EM642aOoKg8Si5tMGrKEBy81sC2A50IIQjHgmxd9Ra27TB6yhACEf8hfXx9fp092/azY91ezrr6NK740nlYeYuh4wfynx/6CRte2sq4mcNRFKXftlwYtk3E5+Oi4cOJ+/2kCrG5OZ3m6dpaYj4fw+JxKkMhVEVB/P/t3Xd4XOWd6PHvKXPOaGY00ox6sWRL7r1jG7Ad00IJLZRActlAsjeFbHbvhk2WQDYhy5OFm3YTcpObLdmQJwnJQuJ9Qsd0bGwwwQYMNjYusmzLlqw+fU65f5wjWZILjgsS1u/zPLY04zPnnBm/5z2/ecvvVRTiwSCG5o3DDmoaKcviqe3bSefznFVVxeR4nLYzvG52XRdNV5lx7iTmXzidwliY5//rVV598k2WXr2A+RfNINmdwsrbbH+ziVBhAfmMxd4drdROrKS6oYyeg0neWbedZHeK0poY42fXY+VtgmGTOcsnEyuLkk5k6WnvJV4ZpX1fL9s2NFE7sZJxU2uwLBsr7/THSqqm0rang8pxZXz87y6ibnI1yUSaXe/sZf0TbzJ3xRScETw0fUQHvIqi0NXWw5ZXt3PBJ5dQ1VBOb0eyPxg0ggGu+8rF7N95ECtv9Y9zyaZydLf10tOeQFEUKseVUlwWpftgD7Z9fIGkHtBp2dlKqjtNw8w6sukcHfu7CYZNejuTuC6ketJ0tvaQ6EqhqIcmSKR60/T441mCkSDhohDRkgiZZO6MvkCHU0jX2dbZyR0vvcS1kybx90uWsPLtt/nmmjUYmkY4ECCgqnRkMgRUtX9yj4LXevDinj18Y/VqikwTx3H47vr1fHXhQm6aNo3W1Jnb+oLiVayp3gyp3gwAaf9noitFZ2sPye40JVUxVq98nZ2bmgFo2ryPv7nvf7Bn2wEe/vlzhKNBFBVad3cwc+lkbvjapTRvbWHl/13FjV+9DMd1eeL+1STaE95QHUXhTz97mgtvOpfzblwMcFjLgJ2zuPSzyygqLeT+b6/8AD+U4acqCk/u2sVzzc38v/PPJ2PbfGP1ap5pbqYhGuWBzZvZ3NHBkurqQa/TFQVD07j9xRd5fMcO6qJRWlMp6qJR7lm6lLJQiNwZPLFNURSsvE1PewLwvtDZlkM+a9F9sJdcJgcoJLvT/MedD1E5towNz73DzHMn8VffuooHf/AEuzbtoWZCBS072njkX5/n+tsuYdk1C3joviex8zbX/a+P8tbqrezc1Ezr7g7MkEnXgW4isTCfuuNySqtj/feobCZHcWmUz9z9cWIVRRxoOkjA0MnnbVRFQQtoqKqKewZ33Id0neaeHr758sucX1/PN5Yv5/EtW/j6iy+ColBkGBiaRmc2S3DIGHRVUdhw4ABfX726f0zv99av50tz5vD5WbNoS6eH6V19MFwX0okM6UQGK2+T7PHeb6Lbq5tTPWlKqopZ/9Qm3nhxCwUFJtvfauZz3/0EXQe6eej/PIVRoGOYBgd2H2TCnLHcePtl9HQk+cOPn+LKW88nFC3gyV+tJtGZJNmVRg0o7P/JQZZfv4jLPrscHW/iP4CVtxg7rYZP3XE50XiEfM6iu7WXzgM9TDmrgeOf5DE8RnbAqyrs29GGYzs0zq4nn7NwHK/ZPRg2cV2oqC+lZkIljmVj214rUT5rkU1mySRzZNM5Xlr5Gpte3srFNy+lMB4+rib3QFCneet+crk8E+ePJZ3MHkd3qgK45LN5MqkcjuNyoLmDdY9uZO+2Ayy7ZiHZdO5UfDRiCM3v6nq3s5NEPk86k+Gba9ZQE4lw+6JFBDWNe1991bvZD7goDV1nTyLBP61Zw5R4nK8vWoSiKNz3+ut855VXmBCLMae8nJ7c6P5/0wMaPe0Jmjbv4/qvXMz1t11CrKKI73/uF0yYW8+KTyzGMHXeeGELT9y/mgtvOod8zqJlZxtW3kIL6Lzx/Gaq6sv45B0fI1Ye5Vd3/4lnHljL1EWN1E2qJp3M9B/PcRzOvnIe0XiYHW82n8h8bUvURQAAGKxJREFUtw+9g+k0O7q6sFyXZ3btYuV77/G/ly1jXkUFq/fu5cvPPHPYhJPycJifbNjA77ds4fazzuK8+npaUyn+5pln+OnGjXxl/nyCgcAZ25p4PBQFbNulZWcbkViIv//5zRQWh1n3yEZefeJNPv/dGxg7tZreziQ/u+0BXvzDes69ej49bQkyaW9eRSaR5c9Pvc3HPreCGedOpKu1h1/etZI/P72Ji29eim15Bda2bEKRIMUzxmDlLGzbIWhoPPYfL2DbDjPOmYjjOCc8U/7DoC/TyLbOThZUVmLnctz18suEAwG+s3QpUcPge+vXk7MHZxrQVZXOTIZvrV1LZTjMnYsXY6gqv3r7bb7/2mtMisdZUl0tdXNAI9GVYt97rVx16wVcd9vFxCqK+OEX76e8Ls6ltywnGDbY8tpOVt63ihWfWISiwv5dB8ln8ijRAt5Z9x6RohA3feNKSqqLefAHT/Dc79Yx4+wJTJhd3x9o983x0APe3I8H7niYLa/upKw2zkdvOhfLGtn1yogOeAEyyQwoh1KJBUMmze+28POv/c6bcasqhAqDXH/bJRSVRigImzzzwFrWPrIBx3awbYdsOs+5V81j6cfnowc0nPdp5VXwhiI0v7uPVE+G8bPqyKXff8KNoipYOYvf/MvDXuoxvOBbVVUu+cwyll+zgK6DvafgUxFD9aUlC+k6MdNkbXMzLckk/7BgAefU1JCxLD49fTrPNzdj+QGv4o+NfKutjW2dnXxp9mzyto2uaSysrGTle+/xdFMTS2trR32l6roujuNQVhNn3vnTqB5fQXdbL5+793rKx5QQigb7e0AURSHVm0LVVIxgAEVRcB2XgojJ9HMmMHPpZFzHZd7502h6Zw8dLV2Mm1572DFDhUGsnH1iaaDOAAFVJRwIkMzneba5mdnl5Vw3aRIApQUFPPTuu4PKpa6qpC2LR7ZvpzISYXppKcl8nqhhsKCykmd37+azM2YQDgQY2bel0891HQLBAPMvmMGspZPJpXMYwQDTFo+nfkoNmVSOXCaPYQbIpLLk0jkCQR27r2dIUyitjbHgwulUNZaT7E4zYXY9B3a1M7BlRPEzFGSSWTRdIxgy+OOPVvHCQ6/wyduvYPKChv6elTNVX91c4NfNr+3dy/auLu5asoTlY8aQzue5ZcYMHt2xg6zlT3pSFFzXZWtnJ2+2tvLts8/GdRwcRWFOeTm/f/ddHt+5k4vGjpW62XWxLZtoSYQFF81g7LQautp6uOXbV1NSHSMaD9N5oIdgyERVVVK9aSLFIa9uVr3PuSBkMvWsRuZ8ZAqO4zLvgulsWb+DtuZ2Ji9oGHQ8x3bI+WlYG2bWYRaYvPXSu6x5eAPn37h4RNfXIzrgdV2XeGUxiqrQ2dpNzYQKrLxNuDjEsuvOIhQO0rRlH2sf2UBPR4LycAm5TJ7Zy6ew9Kp5dLcnCBeFiBSHKS4vxCwwsI6V+9AFy7LRdI2ejgRte7uoqC+hMBaiveX9Z6e7jouma3zkuoXUTqjqD8YLYxGKygpRVGVw6/Kgxhkvj5nrHnkCjzh+uqqyN5mkIhSiIhQimc/Tm8sxobiYggGz3RUgb9u0p9PkbZufbtyI2/e866LgdceduW0vfxnbsiksCaMFNBJdaVRNI5fN88tvrWT3ln2YBQahaBBVVQ4buuO6LgEzgG7qZNM5HMtB1bztvJ6Zwwu9bTmoqlwMecehO5tlSjxO1rbJWhbhQICJsRjvdnb2bxdQVdpSKSzXZVtnJ1998UUsP+dp1rYxNe2wNF2jlus1ohSXR0n1pEGBUDTIS3/cxE9ve4B81qJqbCnt+7uobCg74uvNkIHjuOTSeXKZPJqhYeWOfH8JmAGyqSwP3PsIax/ZwI3/+DGWX7uAbDp/1EmbZyJd09iXTBIPBqmJREjk83RnMowvKiISCPTn3VUA23U5mEqRtW1+sWkTv3z7bfCftxxH6uYBbMshXFRAIKjT25VE1bzUeb+951F2vrWbgKF7aVXdI6fq0w0Nw/QmWNr+mF1VVbzfj3A8RVEwTIOFF83EPs+mqDTCs79by9wVUygui47YfOkjPuCtaiinKF7oZV9Y0IARNIgUh1j+8YWEigrY+NxmNj63Gdf1Ak7bcqhqKGPu+dPpaOlC0VSvC8tyvLyMmopZYLK/qbV/FiQ4qLpKJpWjtyNJvLKIve8dINWdZs6KKeSOO9WGi6KqjJ02hqmLGnFd77GClw84n7MImAEKIiY97QkSnUkCho5l2d5EiL1eWhHDDMiktZNguy4x06Q3l6Mnl0NXVXRVpSeXw/YDAJdDLQ+6qhIrKOB7y5dTGgphOw6OX6kWm+ag9GbiUAXZ9PZe/vOf/siUReO5+Z+vIVZWyJ6tLfz6Ow8fOeG/6w7qunUdV8r5cdD8nov9yaQ37lNVydk2Pbkc2oAvCrbrEvRz8l5QX8+3zz4bB7Adxyv3ikLMNLFG8XCGobyJQRqZVJZH/vV5Xn3yLW746qWMmVxFYVGIn37lt6R7jjxOdGj5PdqwBMMMkOhO8Zt7Hmb7xt3c+oNPMmv5ZD+biT1qgl3wymKxaZKyLDqzWXS//m3PZMg7h/KAu3i51TVdp8g0ufucc6iLRnH8RqG84xCVuvkwrutimAH2bN3Pv3/9QeqnVvPpu64mVl5Ex75O/u3OB4+YrcV18YJU/5/6y/aQshkwdDav30FvR4IZZ08kGAkSMAKMmVRFLp0n0ZWmuLyIkToGbWR/3XchYOp85IZFvLN2O6t+/TI9HQmyqRz5XJ6W7Qd4bdVbZFI5f0yv1+3q2P4fx1sBJJ+1+ltWXcdh/Jw6DjS1s+nlrSR60uSyFq3N7bz88OtEikNMPWs8uzfvo7crwcR544447tZxnMNv1n6h6Tu+bfvHz3nHt/I2RWURJs1vYNuGJl55/A1cx1v1p7u9l5cffp2y2jilNbFRtQrPqeLi3fRT+Txz/fyNa/bupSOTwXJdHtmxg/ZMBq1vURLHIaAoTCstRQXWtbRQG4kwIRbjrbY2PvXoo6xraSFmmsc67Bmnv1wPLd7OoYBV0zVadh6kuy3BvBVTaZw5hlC0gD3bDmDbTv8knIHf9J2hAYLr+s+93wkxYlsMTifX/9JVoOvMLCvjzwcOsL3L+1K8ub2dF5qbCelem4XjumQti4pQiHkVFbzR2srBdJrawkJqCwv58euvc/e6dSTz+VHXyus47hGD0b6yp2oq6d4MOzftoaIuzuLLZlNZX0r3wV5ad7ej6t5wuoFf2IZ+eYPB10cf3dDIpHP81/cf452173HTnVfQOKee9pYuulp7yGetM3vRiQEc1yVlWcwoLyeoaby0Zw/t6TQoCo/t2MHBdJrAgLpZVRQmxmJEDIO1+/ZREQ7TUFTEzu5u/urxx3lu9+5RWDf3/TLkecftryO1gMb+Xe207e1g1rLJTJw7lmg8zJ7tB7weCPd46ubDnwOv3j+4p4M//mgVTe+2YOUsejoSbHx2C9GSQirGlo7o+QEjuoUXANdlwYUzyCQyPPf7V/jz029T3VBGLpenect+VE3l8i+sYM6yyby5ZitG0EDTtaPeSG3bYfbyKWx5dTt/uG8Vrzz2BpF4hL3b9pPuzXLFF1YQq4yyZ/sBDDNAdWM53W2Dx90qiuIdZ8hSrH3LEHvjYjhiobRyNudeNY/mrfv59XceZu0jGwlHQ+x6Zy+J7hSfuuNjlNeXjPgEziNR3zixrONQW1LC382bx32vv87eRIIi02RrZyempqEpCpaiENR1bGBiLMYXZ8/mJxs28F5XFyFd59Ht25ldUcFH6uroHUVjxFzXy0kdMPRBmUf6llYNmF6VYeUsGmbWUjmulMd/+RJNW1roau1mx6Y9hMJBkl0pdCOAYere8AZFwTB1NF3rvzY0f4yvqh15Cdg+/dfVaIkMfLqmYeo6QV3n6gkTeKG5mS+uWsXZtbVs7+wkbdtETRP8pVhNTaMrm+Xv5s7lzbY2/va55zivro49PT2sa2nhm0uWEDXNUZGPt5/rLeqjG4NvdYoCpl/2bMumMB5m1rLJPHn/S/z+e48RKQ6x8+295PMWhqGTSmQwTKN/yIKmawRMfXCOUkNHUQff7IMhk/c27Gbj81twFfjvnz2NbXmBRHdbL1d96QKWXbuAvJ/z9Eyl4OWFzjsO5cXFfGXBAu555RU6n36aikiErR0dXk5eP+At8Icr1EQifHnuXL6/fj3NiQTFhsGqpibGRaNcNG7cqKqbcUHVFK+cDUjR6NXN3pAEgHzGYtz0Guqn1rDqNy9zcG8XvR0Jdr69BzNkkO7NUBgL99fNisLguhnvOEYwgKYNXl0zm86x4KIZvLVmGw/+4AmmLGigq62bpi0tXHXr+QQMfUTn4T0tqxtccsuyrwHGqdq/oiqMm1bLnBVTCBeFcGybwnghSy6dzeWfX8GkBQ04/pCF4rJCGmfWEY1Hjjp4WtVVZiyZRM348v6lS8fPquey//kRpi0aT097gkwiy7jpYyivLSE/YBUS72btUhgLM276GELRII7tdZMrikJxaSFjp1YTjBz5m6edtwkVFjD97AlUN1Zg+fmAJ80by9VfvoCG6XXY+SO0Hp/I5wYoCr9+7Bcvbj/JXS09p6Zmxfn19XRnR+7qb67rUhoMMqeigpJAgBmlpcytrKQtlSJqGHxxzhwmx+NMKSmhQNeJB4PMLCsjahjMKS9nUXU1zb295G2bT02bxhdmz8b8EKxaVWSaPPbONnZUqqy4ZG7/jNoT4np/lVbHGTdzDGYwgGN75VFRFGonVFI1rgwFMEMmk+Y34OQtEp1J6qfW8NFPn0tZTZxoSYTisiiFsRC1EyoxggEiRSHGTqn2r00L11WIVRZRP6X6sLzUhyioqkq0JMLYKdUYQeOE35qieK0WLz34Kjc1TqbACIzQjjdPQFUZV1TExOJioqbJefX16IrC/kSCyxobuX7yZCrDYSZHozjA1NJSxhUVUWSaXDR2LMXBIHt6eqgMh/nqwoUsqqrqnww0kmmKyr+/9RZzrppDpLDgpDIYuLjoAZ2xU2soGxNDUf1GCgWvPE6toSAcRFGgblIV1Q0V7N/ZhqLAeTcuZuFHZxIMGcQriyiIBKmsL6GsNo6ua5TWxqlurEDXNW8J6AKDmoZyympjh4IEBbKpHAWRINMWTaCmsYIxEysZM7GKMZMqaZw1hqLSwhMKdkOFQV5Zs4XIO118Yu6MEVs3e7dMl3gwyKzycipMkynxOIuqq2lNpTBUlVvnzmVKSQmTSkqIBAJEDYNZZWXEgkGmlpRwzpgxtCaTpC2LayZP5m/nzSPkB9AjWaFh8MK2XbxRmOOiKxeeVN3c12sWqyiiccYYbwy57eL6KcyrGyuoGV/p9YwHA0xZ2ICiKHQf7KFmfAUX37KUqnFlROMRisujRIpC1EyoIBg2CRUWUDeliuLSKHk/bioui1I/tYZQNNiflgy8BpGZSycSjobobu8lXlHEpX+9nMZZ9Sd1reoBjWd/t45cJp+xcta9J7yjYzgtTSb3rf5GBxABAqdyv4qieJNY+sb5+N1KfRW4oiiomnLULqyhVE0d0GrkDnqdN7b38Nyg3oG81inHHtzk33d+R+oKOPy94I3vVRQ/m5l72P5OlhfwuhfdevbdT53kru782sKF/3zP0qU09fScilM7LRRAU1Uc18X2J52pioKmKLh4XWqqomD7laTmL9Ha94n3bYu/reN+OLJj1hUW8qUHH2XVbJ277/sMrc0dJ7W//uvIdgZ1oan64ddE37ag9F+Piqr415E3hr2vi0tV1UFdwcd7vXgTKFR/GNHJvC+wLIfvXPsTVl14BfFwQf8kmZFIVfxJff7n11e+FegvmwreSla634o+cFtVVfvHrNl+ef4wMFSNs377G265/2Yqqk5+eJfq98QN7WrVNPWwsqdqan/PhuOnuVQU71rwJlB6WRcUf2LmwGuhb6jI0ON414jK4d0YykmlJCupKubH966k8sFdrPzsDTR1H9+y38PhWHUzeOWzr2528ZfPdg/933xY6+bqSIS7HnuO+6t7+f5/fonW5vaT2t+hunlAufVbfhlSHo9aN/ufq6qq/fGTqv2FdbNfJ3vxk3vcMdexmAUGd175Q3o7U53pRCZ+Ujs7ipE/pGEA13WPuXCEl57j+D/0YzW9H7NZ3mXQN57jPb/B24I7gpv+P4xc6J+Q0/c1xhlyox/4+9DJO0O3Ha2OeB0pR74mjrStO+AaGFjGh77+eK8X1/WGIo02jusOyhk9sHwP1Dejfei2tuMgMwGOXpcfqUw5tsOgD8091LLmOIfGqbmOe9hiEUcbu9iXNmo0k7r51Dhq3TygbB5r24F1s3MydbP7PjHSCDW6Zi8IIYQQQohRRwJeIYQQQghxRpOAVwghhBBCnNEk4BVCCCGEEGc0CXiFEEIIIcQZ7bQEvKqX/eGUpiQTJ8ZR1NGVrV8IIYQQYojTkpbMxY0oo2mB8BHKRcF1P1yp54QQQgghTrXTEgwprvpJcAOoqK6rSPK84eC6mquiKa66YbhPRQghhBBiOJ2WgPfWc7/9wOnYrxg+xaYJsRj1irTcjzhFRRTpBoGwTmVd2UmtRnYmU1Sw8t4qWXWFhRQXhpEPawRSNXRVJV5VTPmYEqy89f6vGYXKx8Qxo0FCqubVzcN9QuJw0Shxw0QvyPh1s9Q3RxMMm2i6hqKq2uk6hkQv4n0VGsZ3G4uLb5teWkoynx/u0xFDhHSd13bvoyWuMGt+I5lkbrhPaWRSvBWydq7dweLySgxN+1AsTzraqCg80bSLxsUNBAuMk16y9ExlFhjs3LKXUHOKs8bWSt08AhXoOm/uO8DOAou5iyeSSWaH+5RGLFVXeeP5zVh5Gytvn5bYVAJe8b4KTXNibzY7bbjPQ4hToVjT6LJH91Kv4syg+X9JcRZniAyQA54Z7hMRQgghhBBCCCGEEEIIIYQQQgghhBBCCCGEEEIIIYQQQgghhBBCCCGEEEIIIYQQQgghhBBCCCGEEEIIIYQQQgghhBBCCCGEEEIIIYQQQgghhBBCCCGEEEIIIYQQQgghhBBCCCGEEEIIIYQQQgghhBBCCCGEEEIIIYQQQgghhBBCCCGEEEIIIYQQQgghhBBCCCGEEEIIIYQQQgghhBAjhjbcJyCEEEIIIUaFW4EfAwGgG+j4oA6sfADHKATuAi7/AI4lhBBCCCFGpjq8YLcDSAA54JvAb0/3gT+IgFcDxgCxD+BYQgghhBBiZPoH4Ab/9z14we6fgIPDdkZCCCGEEEKcQj8CWoGPAaXDfC5CCCFOUBAwh/skhBBihKoGaof7JIQQQhw/AzgXiPiPC4CfAz8dtjMSQghxROpwn4AQQnxIXQ48DlT5jzWgEigftjMSQghxRPpwn4AQQnxINQBhIOs/TuJNxnCP8RoVcE7zeQkhhBhC8vAKIcRfbh5wPTAV2I/XeNACzMdr8W0GQsA5QJH/mhuAj+NN1NgF5PGGRHzC307zXzcwYK4ELgKuBRb6xzkAWKftnQkhhBBCCAHch5dD0gXagd/jDWV4E9jobzMW2Ay8g5d2pxnY6b/m34AvALuBdwfs61oONURMB9bgBbfb/G1d4Id4LctCCCGEEEKcNiZwD14AugQvAI0CLwMv+NvUAK/62zyAN6kthJdg3cVbZeg6f9vFQCfwZ6AELzH7Grxg+gp/mwK8nJUu8PXT9s6EEEIIIYTw3YYXfNb5jws5PODdCryHF+j2ucJ/3V1D9vckXtBbA5wNpPBagYda6+8zeNLvQAghRgmZtCaEECcm4P88Vt7dvrG9qSHPgbfK0EBdQAYvGF6EtxLmecB4/3cbLxVaBd5wienAayd++kIIMXpIwCuEEKePwqEsDn366t2h2RwcDmVwKPO3mwrM8PfTF/Q2Ac/irUEvhBDiOEjAK4QQJ+dYacjg6GnIlGM87sILaP8aWMehiWwOXmqzIIcH0kIIIY5CFp4QQogT0xeEtvk/jzewfT8q3nheA7gSr1U35/+x8NaivxcvrZkQQojjIAGvEEKcmL6W3X/Ey6MbwAtS+8b0KngtsUPH+PYFykN72Ay8TAwBYAPe5LfbgNuBRmAK8BPg83iZHGQBCyGEEEIIcVrNwMuz6wKv400mexp4yv/3arwcvI8Ned01eK22Nw95/ld42Rfq/ceNwEP+/pN4QxhcvKA3dgrfhxBCnPFkDK8QQpyYJrxWWAVvQQkLb9GJvpbfLF4e3v1DXtcKvHSE5zfjtf5m/MfNwH/jTWCb6D/3Bl4A3X2q3oQQQgghhBBCCCGEEEIIIYQQQgghhBBCCCGEEEIIIYQQQgghhBBCCCGEEEIIIYQQQgghhBBCCCGEEEIIIYQQQgghhBBCCCGEEEIIIYQQQgghhBBCCCGEEEIIIYQQQgghhBBCCCGEEEIIIYQQQgghhBAj1f8H80oMis4B2KgAAAAASUVORK5CYII=)"
      ]
    },
    {
      "cell_type": "markdown",
      "metadata": {
        "id": "cm8A-ysbMnxV"
      },
      "source": [
        "Sesudah menggunakan pipeline:"
      ]
    },
    {
      "cell_type": "markdown",
      "metadata": {
        "id": "EzimNvEuMozC"
      },
      "source": [
        "![image.png](data:image/png;base64,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)"
      ]
    },
    {
      "cell_type": "markdown",
      "metadata": {
        "id": "zG9HNdIVDfxb"
      },
      "source": [
        "## Modelling"
      ]
    },
    {
      "cell_type": "code",
      "execution_count": null,
      "metadata": {
        "id": "7IjApPyZhBgs"
      },
      "outputs": [],
      "source": [
        "# code yang diedit disini\n",
        "# model\n",
        "\n",
        "# code yang diedit disini\n",
        "# model\n",
        "\n",
        "clear_session()\n",
        "\n",
        "model = Sequential()\n",
        "model.add(Conv2D(32, (3, 3), input_shape=(IM_SIZE, IM_SIZE, 3)))\n",
        "model.add(Activation('relu'))\n",
        "model.add(MaxPooling2D(pool_size=(2, 2)))\n",
        "\n",
        "model.add(Conv2D(32, (3, 3), kernel_initializer = 'he_uniform'))\n",
        "model.add(Activation('relu'))\n",
        "model.add(MaxPooling2D(pool_size=(2, 2)))\n",
        "\n",
        "model.add(Conv2D(64, (3, 3), kernel_initializer = 'he_uniform'))\n",
        "model.add(Activation('relu'))\n",
        "model.add(MaxPooling2D(pool_size=(2, 2)))\n",
        "\n",
        "model.add(Conv2D(128, (3, 3), kernel_initializer = 'he_uniform'))\n",
        "model.add(Activation('relu'))\n",
        "model.add(MaxPooling2D(pool_size=(2, 2)))\n",
        "\n",
        "\n",
        "model.add(Flatten())\n",
        "model.add(Dense(64))\n",
        "model.add(Activation('relu'))\n",
        "model.add(Dropout(0.9))\n",
        "\n",
        "model.add(Dense(1))\n",
        "model.add(Activation('sigmoid'))\n",
        "\n",
        "# code disini -> untuk membuat model image classification"
      ]
    },
    {
      "cell_type": "code",
      "execution_count": null,
      "metadata": {
        "colab": {
          "base_uri": "https://localhost:8080/"
        },
        "id": "VrwCRyaMfH8M",
        "outputId": "80ceac65-18e3-4c5d-813a-28ac2697c76b"
      },
      "outputs": [
        {
          "output_type": "stream",
          "name": "stdout",
          "text": [
            "Model: \"sequential\"\n",
            "_________________________________________________________________\n",
            " Layer (type)                Output Shape              Param #   \n",
            "=================================================================\n",
            " conv2d (Conv2D)             (None, 222, 222, 32)      896       \n",
            "                                                                 \n",
            " activation (Activation)     (None, 222, 222, 32)      0         \n",
            "                                                                 \n",
            " max_pooling2d (MaxPooling2D  (None, 111, 111, 32)     0         \n",
            " )                                                               \n",
            "                                                                 \n",
            " conv2d_1 (Conv2D)           (None, 109, 109, 32)      9248      \n",
            "                                                                 \n",
            " activation_1 (Activation)   (None, 109, 109, 32)      0         \n",
            "                                                                 \n",
            " max_pooling2d_1 (MaxPooling  (None, 54, 54, 32)       0         \n",
            " 2D)                                                             \n",
            "                                                                 \n",
            " conv2d_2 (Conv2D)           (None, 52, 52, 64)        18496     \n",
            "                                                                 \n",
            " activation_2 (Activation)   (None, 52, 52, 64)        0         \n",
            "                                                                 \n",
            " max_pooling2d_2 (MaxPooling  (None, 26, 26, 64)       0         \n",
            " 2D)                                                             \n",
            "                                                                 \n",
            " conv2d_3 (Conv2D)           (None, 24, 24, 128)       73856     \n",
            "                                                                 \n",
            " activation_3 (Activation)   (None, 24, 24, 128)       0         \n",
            "                                                                 \n",
            " max_pooling2d_3 (MaxPooling  (None, 12, 12, 128)      0         \n",
            " 2D)                                                             \n",
            "                                                                 \n",
            " flatten (Flatten)           (None, 18432)             0         \n",
            "                                                                 \n",
            " dense (Dense)               (None, 64)                1179712   \n",
            "                                                                 \n",
            " activation_4 (Activation)   (None, 64)                0         \n",
            "                                                                 \n",
            " dropout (Dropout)           (None, 64)                0         \n",
            "                                                                 \n",
            " dense_1 (Dense)             (None, 1)                 65        \n",
            "                                                                 \n",
            " activation_5 (Activation)   (None, 1)                 0         \n",
            "                                                                 \n",
            "=================================================================\n",
            "Total params: 1,282,273\n",
            "Trainable params: 1,282,273\n",
            "Non-trainable params: 0\n",
            "_________________________________________________________________\n"
          ]
        }
      ],
      "source": [
        "model.summary()"
      ]
    },
    {
      "cell_type": "code",
      "execution_count": null,
      "metadata": {
        "colab": {
          "base_uri": "https://localhost:8080/",
          "height": 1000
        },
        "id": "RCFnfRLtfK3s",
        "outputId": "6bb04a0b-a355-4bde-c4d7-e05bd7a01c55"
      },
      "outputs": [
        {
          "output_type": "execute_result",
          "data": {
            "image/png": "[encoded data removed]",
            "text/plain": [
              "<IPython.core.display.Image object>"
            ]
          },
          "metadata": {},
          "execution_count": 31
        }
      ],
      "source": [
        "plot_model(model, to_file='model_plot.png', show_shapes=True, show_layer_names=True) #save image model"
      ]
    },
    {
      "cell_type": "code",
      "execution_count": null,
      "metadata": {
        "colab": {
          "base_uri": "https://localhost:8080/"
        },
        "id": "ccl93VKZfjx6",
        "outputId": "8dd5b4b3-53e5-47df-fd0b-258da7455132"
      },
      "outputs": [
        {
          "output_type": "stream",
          "name": "stdout",
          "text": [
            "Epoch 1/15\n",
            "603/603 [==============================] - 47s 72ms/step - loss: 0.6981 - accuracy: 0.5162 - val_loss: 0.6531 - val_accuracy: 0.6990\n",
            "Epoch 2/15\n",
            "603/603 [==============================] - 44s 72ms/step - loss: 0.6831 - accuracy: 0.5369 - val_loss: 0.6784 - val_accuracy: 0.5688\n",
            "Epoch 3/15\n",
            "603/603 [==============================] - 45s 73ms/step - loss: 0.6548 - accuracy: 0.5944 - val_loss: 0.3655 - val_accuracy: 0.8848\n",
            "Epoch 4/15\n",
            "603/603 [==============================] - 43s 71ms/step - loss: 0.3256 - accuracy: 0.8889 - val_loss: 0.1923 - val_accuracy: 0.9480\n",
            "Epoch 5/15\n",
            "603/603 [==============================] - 43s 71ms/step - loss: 0.2483 - accuracy: 0.9293 - val_loss: 0.1729 - val_accuracy: 0.9519\n",
            "Epoch 6/15\n",
            "603/603 [==============================] - 43s 72ms/step - loss: 0.2151 - accuracy: 0.9359 - val_loss: 0.1649 - val_accuracy: 0.9562\n",
            "Epoch 7/15\n",
            "603/603 [==============================] - 45s 74ms/step - loss: 0.2013 - accuracy: 0.9411 - val_loss: 0.1493 - val_accuracy: 0.9581\n",
            "Epoch 8/15\n",
            "603/603 [==============================] - 45s 74ms/step - loss: 0.1967 - accuracy: 0.9399 - val_loss: 0.1386 - val_accuracy: 0.9594\n",
            "Epoch 9/15\n",
            "603/603 [==============================] - 45s 74ms/step - loss: 0.1902 - accuracy: 0.9411 - val_loss: 0.1307 - val_accuracy: 0.9589\n",
            "Epoch 10/15\n",
            "603/603 [==============================] - 44s 72ms/step - loss: 0.1791 - accuracy: 0.9437 - val_loss: 0.1307 - val_accuracy: 0.9574\n",
            "Epoch 11/15\n",
            "603/603 [==============================] - 44s 73ms/step - loss: 0.1771 - accuracy: 0.9441 - val_loss: 0.1269 - val_accuracy: 0.9581\n",
            "Epoch 12/15\n",
            "603/603 [==============================] - 44s 72ms/step - loss: 0.1737 - accuracy: 0.9432 - val_loss: 0.1325 - val_accuracy: 0.9598\n",
            "Epoch 13/15\n",
            "603/603 [==============================] - 43s 71ms/step - loss: 0.1701 - accuracy: 0.9447 - val_loss: 0.1371 - val_accuracy: 0.9608\n",
            "Epoch 14/15\n",
            "603/603 [==============================] - 43s 71ms/step - loss: 0.1686 - accuracy: 0.9456 - val_loss: 0.1314 - val_accuracy: 0.9625\n",
            "Epoch 15/15\n",
            "603/603 [==============================] - 43s 72ms/step - loss: 0.1665 - accuracy: 0.9473 - val_loss: 0.1429 - val_accuracy: 0.9569\n"
          ]
        }
      ],
      "source": [
        "model.compile(optimizer='adam',\n",
        "              loss=tf.keras.losses.BinaryCrossentropy(from_logits=True),\n",
        "              metrics=['accuracy'])\n",
        "\n",
        "history = model.fit(  train_dataset,\n",
        "  validation_data=val_dataset,\n",
        "  epochs=15 #code disini\n",
        "            )"
      ]
    },
    {
      "cell_type": "code",
      "execution_count": null,
      "metadata": {
        "id": "ShbjXNBlfqN7",
        "colab": {
          "base_uri": "https://localhost:8080/",
          "height": 573
        },
        "outputId": "dc3a85f5-b519-499b-b985-917d43c03817"
      },
      "outputs": [
        {
          "output_type": "display_data",
          "data": {
            "text/plain": [
              "<Figure size 432x288 with 1 Axes>"
            ],
            "image/png": "[encoded data removed]"
          },
          "metadata": {
            "needs_background": "light"
          }
        },
        {
          "output_type": "display_data",
          "data": {
            "text/plain": [
              "<Figure size 432x288 with 1 Axes>"
            ],
            "image/png": "[encoded data removed]"
          },
          "metadata": {
            "needs_background": "light"
          }
        }
      ],
      "source": [
        "train_acc = history.history['accuracy']\n",
        "train_loss = history.history['loss']\n",
        "val_acc = history.history['val_accuracy']\n",
        "val_loss = history.history['val_loss']\n",
        "\n",
        "# code disini -> visualisasi akurasi dan loss\n",
        "epochs = range(1, len(train_acc) + 1)\n",
        "\n",
        "# plot training and validation accuracy\n",
        "plt.plot(epochs, train_acc, 'b', label='Train accuracy')\n",
        "plt.plot(epochs, val_acc, 'r', label='Validation accuracy')\n",
        "plt.title('Train and validation accuracy')\n",
        "plt.xlabel('Epochs')\n",
        "plt.ylabel('Accuracy')\n",
        "plt.legend()\n",
        "\n",
        "plt.figure()\n",
        "\n",
        "# plot training and validation loss\n",
        "plt.plot(epochs, train_loss, 'b', label='Train loss')\n",
        "plt.plot(epochs, val_loss, 'r', label='Validation loss')\n",
        "plt.title('Train and validation loss')\n",
        "plt.xlabel('Epochs')\n",
        "plt.ylabel('Loss')\n",
        "plt.legend()\n",
        "\n",
        "\n",
        "\n",
        "plt.show()"
      ]
    },
    {
      "cell_type": "code",
      "execution_count": null,
      "metadata": {
        "id": "DGZYuIK1v7Kj"
      },
      "outputs": [],
      "source": [
        "# save model\n",
        "model.save('malaria.h5')"
      ]
    },
    {
      "cell_type": "code",
      "execution_count": null,
      "metadata": {
        "colab": {
          "base_uri": "https://localhost:8080/"
        },
        "id": "vJ3dKlAbwmqc",
        "outputId": "e9991954-9871-4ec2-a191-5071d80017cc"
      },
      "outputs": [
        {
          "output_type": "execute_result",
          "data": {
            "text/plain": [
              "<keras.engine.sequential.Sequential at 0x7f22ac48f100>"
            ]
          },
          "metadata": {},
          "execution_count": 21
        }
      ],
      "source": [
        "# evaluasi model\n",
        "model # code disini -> evaluasi dari test data"
      ]
    },
    {
      "cell_type": "code",
      "execution_count": null,
      "metadata": {
        "colab": {
          "base_uri": "https://localhost:8080/",
          "height": 17
        },
        "id": "mwmacG_8b2dD",
        "outputId": "ac6a25b5-9cd4-4dfa-da79-8b76b5fb779a"
      },
      "outputs": [
        {
          "output_type": "display_data",
          "data": {
            "text/plain": [
              "<IPython.core.display.Javascript object>"
            ],
            "application/javascript": [
              "\n",
              "    async function download(id, filename, size) {\n",
              "      if (!google.colab.kernel.accessAllowed) {\n",
              "        return;\n",
              "      }\n",
              "      const div = document.createElement('div');\n",
              "      const label = document.createElement('label');\n",
              "      label.textContent = `Downloading \"${filename}\": `;\n",
              "      div.appendChild(label);\n",
              "      const progress = document.createElement('progress');\n",
              "      progress.max = size;\n",
              "      div.appendChild(progress);\n",
              "      document.body.appendChild(div);\n",
              "\n",
              "      const buffers = [];\n",
              "      let downloaded = 0;\n",
              "\n",
              "      const channel = await google.colab.kernel.comms.open(id);\n",
              "      // Send a message to notify the kernel that we're ready.\n",
              "      channel.send({})\n",
              "\n",
              "      for await (const message of channel.messages) {\n",
              "        // Send a message to notify the kernel that we're ready.\n",
              "        channel.send({})\n",
              "        if (message.buffers) {\n",
              "          for (const buffer of message.buffers) {\n",
              "            buffers.push(buffer);\n",
              "            downloaded += buffer.byteLength;\n",
              "            progress.value = downloaded;\n",
              "          }\n",
              "        }\n",
              "      }\n",
              "      const blob = new Blob(buffers, {type: 'application/binary'});\n",
              "      const a = document.createElement('a');\n",
              "      a.href = window.URL.createObjectURL(blob);\n",
              "      a.download = filename;\n",
              "      div.appendChild(a);\n",
              "      a.click();\n",
              "      div.remove();\n",
              "    }\n",
              "  "
            ]
          },
          "metadata": {}
        },
        {
          "output_type": "display_data",
          "data": {
            "text/plain": [
              "<IPython.core.display.Javascript object>"
            ],
            "application/javascript": [
              "download(\"download_7497a79f-2bb4-4f7d-ad2e-62b6a4e199c7\", \"malaria.h5\", 15453176)"
            ]
          },
          "metadata": {}
        }
      ],
      "source": [
        "# download file\n",
        "files.download('malaria.h5')"
      ]
    },
    {
      "cell_type": "markdown",
      "metadata": {
        "id": "RtCB23nU0OWZ"
      },
      "source": [
        "## Test Model"
      ]
    },
    {
      "cell_type": "code",
      "execution_count": null,
      "metadata": {
        "id": "ekrl2Ryh5IsL"
      },
      "outputs": [],
      "source": [
        "## TESTING - DONT EDIT\n",
        "\n",
        "import tensorflow as tf\n",
        "import tensorflow_datasets as tfds\n",
        "from tensorflow.keras.models import load_model\n",
        "\n",
        "import argparse\n",
        "\n",
        "IM_SIZE = 224\n",
        "BATCH_SIZE = 16\n",
        "\n",
        "def resize_rescale(image,label):\n",
        "    return tf.image.resize(image, (IM_SIZE,IM_SIZE))/255.0,label\n",
        "\n",
        "def preprocessing(dataset):\n",
        "    return dataset[0].map(resize_rescale).batch(BATCH_SIZE).prefetch(tf.data.AUTOTUNE)\n",
        "\n",
        "def get_acc(model):\n",
        "    dataset, _ = tfds.load('malaria',with_info=True,as_supervised=True,shuffle_files=True,split=['train'])\n",
        "    preprocessing_image = preprocessing(dataset)\n",
        "\n",
        "    model = load_model(model)\n",
        "    acc = model.evaluate(preprocessing_image)[1]*100\n",
        "    return print(\"model accuracy: {:.3f} %\".format(acc))"
      ]
    },
    {
      "cell_type": "code",
      "execution_count": null,
      "metadata": {
        "colab": {
          "base_uri": "https://localhost:8080/"
        },
        "id": "uq4Q_znJIy50",
        "outputId": "cb0e5ee5-3877-4972-862a-9af65e0eed3d"
      },
      "outputs": [
        {
          "output_type": "stream",
          "name": "stdout",
          "text": [
            "1723/1723 [==============================] - 33s 19ms/step - loss: 0.1297 - accuracy: 0.9599\n",
            "model accuracy: 95.994 %\n"
          ]
        }
      ],
      "source": [
        "model = \"/content/malaria.h5\"\n",
        "get_acc(model)"
      ]
    },
    {
      "cell_type": "code",
      "source": [
        "IM_SIZE = 224\n",
        "img = tf.keras.utils.load_img('uni.jpeg', target_size=(IM_SIZE, IM_SIZE))\n",
        "img_array = tf.keras.utils.img_to_array(img)\n",
        "img_array = tf.expand_dims(img_array, 0) # Create a batch\n",
        "\n",
        "predictions = new_model.predict(img_array,batch_size=None,steps=1)\n",
        "score = tf.nn.sigmoid(predictions[0])\n",
        "\n",
        "#print(\"This image most likely belongs to {} with a {:.2f}% confidence.\".format(ds_names[np.argmax(score)], 100 * np.max(score)))\n",
        "if predictions[0] > 0.5:\n",
        "  value ='Uninfected :%1.2f'%(predictions[0,0])\n",
        "  plt.text(40, 220,value,color='red',fontsize=18,bbox=dict(facecolor='white',alpha=0.8))\n",
        "else:\n",
        "  value ='Parasited :%1.2f'%(1.0-predictions[0,0])\n",
        "  plt.text(40, 220,value,color='red',fontsize=18,bbox=dict(facecolor='white',alpha=0.8))\n",
        "plt.imshow(img)\n",
        "plt.show()"
      ],
      "metadata": {
        "colab": {
          "base_uri": "https://localhost:8080/",
          "height": 286
        },
        "id": "vSuRJgiOQorf",
        "outputId": "976b2e38-c20d-4142-f6b9-eda2487aa34a"
      },
      "execution_count": null,
      "outputs": [
        {
          "output_type": "stream",
          "name": "stdout",
          "text": [
            "1/1 [==============================] - 0s 102ms/step\n"
          ]
        },
        {
          "output_type": "display_data",
          "data": {
            "text/plain": [
              "<Figure size 432x288 with 1 Axes>"
            ],
            "image/png": "[encoded data removed]"
          },
          "metadata": {
            "needs_background": "light"
          }
        }
      ]
    },
    {
      "cell_type": "code",
      "source": [
        "new_model = tf.keras.models.load_model(\"malaria.h5\")"
      ],
      "metadata": {
        "id": "qi2B_vi1ROqV"
      },
      "execution_count": null,
      "outputs": []
    },
    {
      "cell_type": "code",
      "execution_count": null,
      "metadata": {
        "id": "0AzbahH1gmU0",
        "colab": {
          "base_uri": "https://localhost:8080/"
        },
        "outputId": "72ad7e1b-e696-4f97-d8b7-4175bbad18c8"
      },
      "outputs": [
        {
          "output_type": "stream",
          "name": "stdout",
          "text": [
            "['parasitized', 'uninfected']\n"
          ]
        }
      ],
      "source": [
        "ds_names = dataset_info.features[\"label\"].names\n",
        "print(ds_names)"
      ]
    }
  ],
  "metadata": {
    "accelerator": "GPU",
    "colab": {
      "provenance": []
    },
    "gpuClass": "standard",
    "kernelspec": {
      "display_name": "Python 3",
      "name": "python3"
    },
    "language_info": {
      "name": "python"
    },
    "widgets": {
      "application/vnd.jupyter.widget-state+json": {
        "754f331664c54245822fced9e1a24f22": {
          "model_module": "@jupyter-widgets/controls",
          "model_name": "HBoxModel",
          "model_module_version": "1.5.0",
          "state": {
            "_dom_classes": [],
            "_model_module": "@jupyter-widgets/controls",
            "_model_module_version": "1.5.0",
            "_model_name": "HBoxModel",
            "_view_count": null,
            "_view_module": "@jupyter-widgets/controls",
            "_view_module_version": "1.5.0",
            "_view_name": "HBoxView",
            "box_style": "",
            "children": [
              "IPY_MODEL_afe62c3dbed34e50909bad1cda6c20d4",
              "IPY_MODEL_909d9dd2ead74266ad903b96b577a5e0",
              "IPY_MODEL_4296656e88394414871fc80fd2774983"
            ],
            "layout": "IPY_MODEL_be1df7d0cd6f4dafbf9270bfe5accc4f"
          }
        },
        "afe62c3dbed34e50909bad1cda6c20d4": {
          "model_module": "@jupyter-widgets/controls",
          "model_name": "HTMLModel",
          "model_module_version": "1.5.0",
          "state": {
            "_dom_classes": [],
            "_model_module": "@jupyter-widgets/controls",
            "_model_module_version": "1.5.0",
            "_model_name": "HTMLModel",
            "_view_count": null,
            "_view_module": "@jupyter-widgets/controls",
            "_view_module_version": "1.5.0",
            "_view_name": "HTMLView",
            "description": "",
            "description_tooltip": null,
            "layout": "IPY_MODEL_133faa05798d4779a3da231b99298447",
            "placeholder": "​",
            "style": "IPY_MODEL_d196ce180ec0431686bbafa11cf02468",
            "value": "Dl Completed...: 100%"
          }
        },
        "909d9dd2ead74266ad903b96b577a5e0": {
          "model_module": "@jupyter-widgets/controls",
          "model_name": "FloatProgressModel",
          "model_module_version": "1.5.0",
          "state": {
            "_dom_classes": [],
            "_model_module": "@jupyter-widgets/controls",
            "_model_module_version": "1.5.0",
            "_model_name": "FloatProgressModel",
            "_view_count": null,
            "_view_module": "@jupyter-widgets/controls",
            "_view_module_version": "1.5.0",
            "_view_name": "ProgressView",
            "bar_style": "success",
            "description": "",
            "description_tooltip": null,
            "layout": "IPY_MODEL_ec99651982464a579574c74a7756b00f",
            "max": 1,
            "min": 0,
            "orientation": "horizontal",
            "style": "IPY_MODEL_074086217ecb423f881206084b908cb3",
            "value": 1
          }
        },
        "4296656e88394414871fc80fd2774983": {
          "model_module": "@jupyter-widgets/controls",
          "model_name": "HTMLModel",
          "model_module_version": "1.5.0",
          "state": {
            "_dom_classes": [],
            "_model_module": "@jupyter-widgets/controls",
            "_model_module_version": "1.5.0",
            "_model_name": "HTMLModel",
            "_view_count": null,
            "_view_module": "@jupyter-widgets/controls",
            "_view_module_version": "1.5.0",
            "_view_name": "HTMLView",
            "description": "",
            "description_tooltip": null,
            "layout": "IPY_MODEL_a793ed7776684e78974d84031f18e867",
            "placeholder": "​",
            "style": "IPY_MODEL_5634ca21a3a54954b930066ab3faf833",
            "value": " 1/1 [01:23&lt;00:00,  9.93s/ url]"
          }
        },
        "be1df7d0cd6f4dafbf9270bfe5accc4f": {
          "model_module": "@jupyter-widgets/base",
          "model_name": "LayoutModel",
          "model_module_version": "1.2.0",
          "state": {
            "_model_module": "@jupyter-widgets/base",
            "_model_module_version": "1.2.0",
            "_model_name": "LayoutModel",
            "_view_count": null,
            "_view_module": "@jupyter-widgets/base",
            "_view_module_version": "1.2.0",
            "_view_name": "LayoutView",
            "align_content": null,
            "align_items": null,
            "align_self": null,
            "border": null,
            "bottom": null,
            "display": null,
            "flex": null,
            "flex_flow": null,
            "grid_area": null,
            "grid_auto_columns": null,
            "grid_auto_flow": null,
            "grid_auto_rows": null,
            "grid_column": null,
            "grid_gap": null,
            "grid_row": null,
            "grid_template_areas": null,
            "grid_template_columns": null,
            "grid_template_rows": null,
            "height": null,
            "justify_content": null,
            "justify_items": null,
            "left": null,
            "margin": null,
            "max_height": null,
            "max_width": null,
            "min_height": null,
            "min_width": null,
            "object_fit": null,
            "object_position": null,
            "order": null,
            "overflow": null,
            "overflow_x": null,
            "overflow_y": null,
            "padding": null,
            "right": null,
            "top": null,
            "visibility": null,
            "width": null
          }
        },
        "133faa05798d4779a3da231b99298447": {
          "model_module": "@jupyter-widgets/base",
          "model_name": "LayoutModel",
          "model_module_version": "1.2.0",
          "state": {
            "_model_module": "@jupyter-widgets/base",
            "_model_module_version": "1.2.0",
            "_model_name": "LayoutModel",
            "_view_count": null,
            "_view_module": "@jupyter-widgets/base",
            "_view_module_version": "1.2.0",
            "_view_name": "LayoutView",
            "align_content": null,
            "align_items": null,
            "align_self": null,
            "border": null,
            "bottom": null,
            "display": null,
            "flex": null,
            "flex_flow": null,
            "grid_area": null,
            "grid_auto_columns": null,
            "grid_auto_flow": null,
            "grid_auto_rows": null,
            "grid_column": null,
            "grid_gap": null,
            "grid_row": null,
            "grid_template_areas": null,
            "grid_template_columns": null,
            "grid_template_rows": null,
            "height": null,
            "justify_content": null,
            "justify_items": null,
            "left": null,
            "margin": null,
            "max_height": null,
            "max_width": null,
            "min_height": null,
            "min_width": null,
            "object_fit": null,
            "object_position": null,
            "order": null,
            "overflow": null,
            "overflow_x": null,
            "overflow_y": null,
            "padding": null,
            "right": null,
            "top": null,
            "visibility": null,
            "width": null
          }
        },
        "d196ce180ec0431686bbafa11cf02468": {
          "model_module": "@jupyter-widgets/controls",
          "model_name": "DescriptionStyleModel",
          "model_module_version": "1.5.0",
          "state": {
            "_model_module": "@jupyter-widgets/controls",
            "_model_module_version": "1.5.0",
            "_model_name": "DescriptionStyleModel",
            "_view_count": null,
            "_view_module": "@jupyter-widgets/base",
            "_view_module_version": "1.2.0",
            "_view_name": "StyleView",
            "description_width": ""
          }
        },
        "ec99651982464a579574c74a7756b00f": {
          "model_module": "@jupyter-widgets/base",
          "model_name": "LayoutModel",
          "model_module_version": "1.2.0",
          "state": {
            "_model_module": "@jupyter-widgets/base",
            "_model_module_version": "1.2.0",
            "_model_name": "LayoutModel",
            "_view_count": null,
            "_view_module": "@jupyter-widgets/base",
            "_view_module_version": "1.2.0",
            "_view_name": "LayoutView",
            "align_content": null,
            "align_items": null,
            "align_self": null,
            "border": null,
            "bottom": null,
            "display": null,
            "flex": null,
            "flex_flow": null,
            "grid_area": null,
            "grid_auto_columns": null,
            "grid_auto_flow": null,
            "grid_auto_rows": null,
            "grid_column": null,
            "grid_gap": null,
            "grid_row": null,
            "grid_template_areas": null,
            "grid_template_columns": null,
            "grid_template_rows": null,
            "height": null,
            "justify_content": null,
            "justify_items": null,
            "left": null,
            "margin": null,
            "max_height": null,
            "max_width": null,
            "min_height": null,
            "min_width": null,
            "object_fit": null,
            "object_position": null,
            "order": null,
            "overflow": null,
            "overflow_x": null,
            "overflow_y": null,
            "padding": null,
            "right": null,
            "top": null,
            "visibility": null,
            "width": "20px"
          }
        },
        "074086217ecb423f881206084b908cb3": {
          "model_module": "@jupyter-widgets/controls",
          "model_name": "ProgressStyleModel",
          "model_module_version": "1.5.0",
          "state": {
            "_model_module": "@jupyter-widgets/controls",
            "_model_module_version": "1.5.0",
            "_model_name": "ProgressStyleModel",
            "_view_count": null,
            "_view_module": "@jupyter-widgets/base",
            "_view_module_version": "1.2.0",
            "_view_name": "StyleView",
            "bar_color": null,
            "description_width": ""
          }
        },
        "a793ed7776684e78974d84031f18e867": {
          "model_module": "@jupyter-widgets/base",
          "model_name": "LayoutModel",
          "model_module_version": "1.2.0",
          "state": {
            "_model_module": "@jupyter-widgets/base",
            "_model_module_version": "1.2.0",
            "_model_name": "LayoutModel",
            "_view_count": null,
            "_view_module": "@jupyter-widgets/base",
            "_view_module_version": "1.2.0",
            "_view_name": "LayoutView",
            "align_content": null,
            "align_items": null,
            "align_self": null,
            "border": null,
            "bottom": null,
            "display": null,
            "flex": null,
            "flex_flow": null,
            "grid_area": null,
            "grid_auto_columns": null,
            "grid_auto_flow": null,
            "grid_auto_rows": null,
            "grid_column": null,
            "grid_gap": null,
            "grid_row": null,
            "grid_template_areas": null,
            "grid_template_columns": null,
            "grid_template_rows": null,
            "height": null,
            "justify_content": null,
            "justify_items": null,
            "left": null,
            "margin": null,
            "max_height": null,
            "max_width": null,
            "min_height": null,
            "min_width": null,
            "object_fit": null,
            "object_position": null,
            "order": null,
            "overflow": null,
            "overflow_x": null,
            "overflow_y": null,
            "padding": null,
            "right": null,
            "top": null,
            "visibility": null,
            "width": null
          }
        },
        "5634ca21a3a54954b930066ab3faf833": {
          "model_module": "@jupyter-widgets/controls",
          "model_name": "DescriptionStyleModel",
          "model_module_version": "1.5.0",
          "state": {
            "_model_module": "@jupyter-widgets/controls",
            "_model_module_version": "1.5.0",
            "_model_name": "DescriptionStyleModel",
            "_view_count": null,
            "_view_module": "@jupyter-widgets/base",
            "_view_module_version": "1.2.0",
            "_view_name": "StyleView",
            "description_width": ""
          }
        },
        "fb084563e7fa423e8736ea234628e18d": {
          "model_module": "@jupyter-widgets/controls",
          "model_name": "HBoxModel",
          "model_module_version": "1.5.0",
          "state": {
            "_dom_classes": [],
            "_model_module": "@jupyter-widgets/controls",
            "_model_module_version": "1.5.0",
            "_model_name": "HBoxModel",
            "_view_count": null,
            "_view_module": "@jupyter-widgets/controls",
            "_view_module_version": "1.5.0",
            "_view_name": "HBoxView",
            "box_style": "",
            "children": [
              "IPY_MODEL_cacf5166b7b54761a4d015126d2b0711",
              "IPY_MODEL_77ecfa2992264961927342f07285cfa8",
              "IPY_MODEL_90d29fcec06b4313b1d66526b51f8556"
            ],
            "layout": "IPY_MODEL_ad9550d33541496dac0db5185fa1f5e3"
          }
        },
        "cacf5166b7b54761a4d015126d2b0711": {
          "model_module": "@jupyter-widgets/controls",
          "model_name": "HTMLModel",
          "model_module_version": "1.5.0",
          "state": {
            "_dom_classes": [],
            "_model_module": "@jupyter-widgets/controls",
            "_model_module_version": "1.5.0",
            "_model_name": "HTMLModel",
            "_view_count": null,
            "_view_module": "@jupyter-widgets/controls",
            "_view_module_version": "1.5.0",
            "_view_name": "HTMLView",
            "description": "",
            "description_tooltip": null,
            "layout": "IPY_MODEL_ccdf018396bc48bc88d698f306bc9dee",
            "placeholder": "​",
            "style": "IPY_MODEL_9bda48e09a3349bfbd5bcbd0234751ed",
            "value": "Dl Size...: 100%"
          }
        },
        "77ecfa2992264961927342f07285cfa8": {
          "model_module": "@jupyter-widgets/controls",
          "model_name": "FloatProgressModel",
          "model_module_version": "1.5.0",
          "state": {
            "_dom_classes": [],
            "_model_module": "@jupyter-widgets/controls",
            "_model_module_version": "1.5.0",
            "_model_name": "FloatProgressModel",
            "_view_count": null,
            "_view_module": "@jupyter-widgets/controls",
            "_view_module_version": "1.5.0",
            "_view_name": "ProgressView",
            "bar_style": "success",
            "description": "",
            "description_tooltip": null,
            "layout": "IPY_MODEL_74530fd348534ee48ac91a731843c23a",
            "max": 1,
            "min": 0,
            "orientation": "horizontal",
            "style": "IPY_MODEL_36d73ab664a04610a70837125511cb39",
            "value": 1
          }
        },
        "90d29fcec06b4313b1d66526b51f8556": {
          "model_module": "@jupyter-widgets/controls",
          "model_name": "HTMLModel",
          "model_module_version": "1.5.0",
          "state": {
            "_dom_classes": [],
            "_model_module": "@jupyter-widgets/controls",
            "_model_module_version": "1.5.0",
            "_model_name": "HTMLModel",
            "_view_count": null,
            "_view_module": "@jupyter-widgets/controls",
            "_view_module_version": "1.5.0",
            "_view_name": "HTMLView",
            "description": "",
            "description_tooltip": null,
            "layout": "IPY_MODEL_28a6d75b20ca4561a82a69e2345a6f9b",
            "placeholder": "​",
            "style": "IPY_MODEL_f19df7bf4fe94103bae87437d4895854",
            "value": " 337/337 [01:24&lt;00:00, 29.63 MiB/s]"
          }
        },
        "ad9550d33541496dac0db5185fa1f5e3": {
          "model_module": "@jupyter-widgets/base",
          "model_name": "LayoutModel",
          "model_module_version": "1.2.0",
          "state": {
            "_model_module": "@jupyter-widgets/base",
            "_model_module_version": "1.2.0",
            "_model_name": "LayoutModel",
            "_view_count": null,
            "_view_module": "@jupyter-widgets/base",
            "_view_module_version": "1.2.0",
            "_view_name": "LayoutView",
            "align_content": null,
            "align_items": null,
            "align_self": null,
            "border": null,
            "bottom": null,
            "display": null,
            "flex": null,
            "flex_flow": null,
            "grid_area": null,
            "grid_auto_columns": null,
            "grid_auto_flow": null,
            "grid_auto_rows": null,
            "grid_column": null,
            "grid_gap": null,
            "grid_row": null,
            "grid_template_areas": null,
            "grid_template_columns": null,
            "grid_template_rows": null,
            "height": null,
            "justify_content": null,
            "justify_items": null,
            "left": null,
            "margin": null,
            "max_height": null,
            "max_width": null,
            "min_height": null,
            "min_width": null,
            "object_fit": null,
            "object_position": null,
            "order": null,
            "overflow": null,
            "overflow_x": null,
            "overflow_y": null,
            "padding": null,
            "right": null,
            "top": null,
            "visibility": null,
            "width": null
          }
        },
        "ccdf018396bc48bc88d698f306bc9dee": {
          "model_module": "@jupyter-widgets/base",
          "model_name": "LayoutModel",
          "model_module_version": "1.2.0",
          "state": {
            "_model_module": "@jupyter-widgets/base",
            "_model_module_version": "1.2.0",
            "_model_name": "LayoutModel",
            "_view_count": null,
            "_view_module": "@jupyter-widgets/base",
            "_view_module_version": "1.2.0",
            "_view_name": "LayoutView",
            "align_content": null,
            "align_items": null,
            "align_self": null,
            "border": null,
            "bottom": null,
            "display": null,
            "flex": null,
            "flex_flow": null,
            "grid_area": null,
            "grid_auto_columns": null,
            "grid_auto_flow": null,
            "grid_auto_rows": null,
            "grid_column": null,
            "grid_gap": null,
            "grid_row": null,
            "grid_template_areas": null,
            "grid_template_columns": null,
            "grid_template_rows": null,
            "height": null,
            "justify_content": null,
            "justify_items": null,
            "left": null,
            "margin": null,
            "max_height": null,
            "max_width": null,
            "min_height": null,
            "min_width": null,
            "object_fit": null,
            "object_position": null,
            "order": null,
            "overflow": null,
            "overflow_x": null,
            "overflow_y": null,
            "padding": null,
            "right": null,
            "top": null,
            "visibility": null,
            "width": null
          }
        },
        "9bda48e09a3349bfbd5bcbd0234751ed": {
          "model_module": "@jupyter-widgets/controls",
          "model_name": "DescriptionStyleModel",
          "model_module_version": "1.5.0",
          "state": {
            "_model_module": "@jupyter-widgets/controls",
            "_model_module_version": "1.5.0",
            "_model_name": "DescriptionStyleModel",
            "_view_count": null,
            "_view_module": "@jupyter-widgets/base",
            "_view_module_version": "1.2.0",
            "_view_name": "StyleView",
            "description_width": ""
          }
        },
        "74530fd348534ee48ac91a731843c23a": {
          "model_module": "@jupyter-widgets/base",
          "model_name": "LayoutModel",
          "model_module_version": "1.2.0",
          "state": {
            "_model_module": "@jupyter-widgets/base",
            "_model_module_version": "1.2.0",
            "_model_name": "LayoutModel",
            "_view_count": null,
            "_view_module": "@jupyter-widgets/base",
            "_view_module_version": "1.2.0",
            "_view_name": "LayoutView",
            "align_content": null,
            "align_items": null,
            "align_self": null,
            "border": null,
            "bottom": null,
            "display": null,
            "flex": null,
            "flex_flow": null,
            "grid_area": null,
            "grid_auto_columns": null,
            "grid_auto_flow": null,
            "grid_auto_rows": null,
            "grid_column": null,
            "grid_gap": null,
            "grid_row": null,
            "grid_template_areas": null,
            "grid_template_columns": null,
            "grid_template_rows": null,
            "height": null,
            "justify_content": null,
            "justify_items": null,
            "left": null,
            "margin": null,
            "max_height": null,
            "max_width": null,
            "min_height": null,
            "min_width": null,
            "object_fit": null,
            "object_position": null,
            "order": null,
            "overflow": null,
            "overflow_x": null,
            "overflow_y": null,
            "padding": null,
            "right": null,
            "top": null,
            "visibility": null,
            "width": "20px"
          }
        },
        "36d73ab664a04610a70837125511cb39": {
          "model_module": "@jupyter-widgets/controls",
          "model_name": "ProgressStyleModel",
          "model_module_version": "1.5.0",
          "state": {
            "_model_module": "@jupyter-widgets/controls",
            "_model_module_version": "1.5.0",
            "_model_name": "ProgressStyleModel",
            "_view_count": null,
            "_view_module": "@jupyter-widgets/base",
            "_view_module_version": "1.2.0",
            "_view_name": "StyleView",
            "bar_color": null,
            "description_width": ""
          }
        },
        "28a6d75b20ca4561a82a69e2345a6f9b": {
          "model_module": "@jupyter-widgets/base",
          "model_name": "LayoutModel",
          "model_module_version": "1.2.0",
          "state": {
            "_model_module": "@jupyter-widgets/base",
            "_model_module_version": "1.2.0",
            "_model_name": "LayoutModel",
            "_view_count": null,
            "_view_module": "@jupyter-widgets/base",
            "_view_module_version": "1.2.0",
            "_view_name": "LayoutView",
            "align_content": null,
            "align_items": null,
            "align_self": null,
            "border": null,
            "bottom": null,
            "display": null,
            "flex": null,
            "flex_flow": null,
            "grid_area": null,
            "grid_auto_columns": null,
            "grid_auto_flow": null,
            "grid_auto_rows": null,
            "grid_column": null,
            "grid_gap": null,
            "grid_row": null,
            "grid_template_areas": null,
            "grid_template_columns": null,
            "grid_template_rows": null,
            "height": null,
            "justify_content": null,
            "justify_items": null,
            "left": null,
            "margin": null,
            "max_height": null,
            "max_width": null,
            "min_height": null,
            "min_width": null,
            "object_fit": null,
            "object_position": null,
            "order": null,
            "overflow": null,
            "overflow_x": null,
            "overflow_y": null,
            "padding": null,
            "right": null,
            "top": null,
            "visibility": null,
            "width": null
          }
        },
        "f19df7bf4fe94103bae87437d4895854": {
          "model_module": "@jupyter-widgets/controls",
          "model_name": "DescriptionStyleModel",
          "model_module_version": "1.5.0",
          "state": {
            "_model_module": "@jupyter-widgets/controls",
            "_model_module_version": "1.5.0",
            "_model_name": "DescriptionStyleModel",
            "_view_count": null,
            "_view_module": "@jupyter-widgets/base",
            "_view_module_version": "1.2.0",
            "_view_name": "StyleView",
            "description_width": ""
          }
        },
        "a17cf4e9f3be407a97d485b65de58448": {
          "model_module": "@jupyter-widgets/controls",
          "model_name": "HBoxModel",
          "model_module_version": "1.5.0",
          "state": {
            "_dom_classes": [],
            "_model_module": "@jupyter-widgets/controls",
            "_model_module_version": "1.5.0",
            "_model_name": "HBoxModel",
            "_view_count": null,
            "_view_module": "@jupyter-widgets/controls",
            "_view_module_version": "1.5.0",
            "_view_name": "HBoxView",
            "box_style": "",
            "children": [
              "IPY_MODEL_1aea5178da1e497e9dfececd0d019134",
              "IPY_MODEL_2496c988b607456c962101af95bc228c",
              "IPY_MODEL_64287d2d9b8b474b969870a32d782730"
            ],
            "layout": "IPY_MODEL_9133c1b1195d4581bdd0c16541d78da3"
          }
        },
        "1aea5178da1e497e9dfececd0d019134": {
          "model_module": "@jupyter-widgets/controls",
          "model_name": "HTMLModel",
          "model_module_version": "1.5.0",
          "state": {
            "_dom_classes": [],
            "_model_module": "@jupyter-widgets/controls",
            "_model_module_version": "1.5.0",
            "_model_name": "HTMLModel",
            "_view_count": null,
            "_view_module": "@jupyter-widgets/controls",
            "_view_module_version": "1.5.0",
            "_view_name": "HTMLView",
            "description": "",
            "description_tooltip": null,
            "layout": "IPY_MODEL_08d472088e2e4ee7ba82bce459451ebe",
            "placeholder": "​",
            "style": "IPY_MODEL_762bf193c08c4fe683907f8e2d59b9b3",
            "value": "Extraction completed...:  96%"
          }
        },
        "2496c988b607456c962101af95bc228c": {
          "model_module": "@jupyter-widgets/controls",
          "model_name": "FloatProgressModel",
          "model_module_version": "1.5.0",
          "state": {
            "_dom_classes": [],
            "_model_module": "@jupyter-widgets/controls",
            "_model_module_version": "1.5.0",
            "_model_name": "FloatProgressModel",
            "_view_count": null,
            "_view_module": "@jupyter-widgets/controls",
            "_view_module_version": "1.5.0",
            "_view_name": "ProgressView",
            "bar_style": "success",
            "description": "",
            "description_tooltip": null,
            "layout": "IPY_MODEL_ff4a760651034daaab1ccb2756947a8a",
            "max": 1,
            "min": 0,
            "orientation": "horizontal",
            "style": "IPY_MODEL_14e8260e285f426a82134df241da148b",
            "value": 1
          }
        },
        "64287d2d9b8b474b969870a32d782730": {
          "model_module": "@jupyter-widgets/controls",
          "model_name": "HTMLModel",
          "model_module_version": "1.5.0",
          "state": {
            "_dom_classes": [],
            "_model_module": "@jupyter-widgets/controls",
            "_model_module_version": "1.5.0",
            "_model_name": "HTMLModel",
            "_view_count": null,
            "_view_module": "@jupyter-widgets/controls",
            "_view_module_version": "1.5.0",
            "_view_name": "HTMLView",
            "description": "",
            "description_tooltip": null,
            "layout": "IPY_MODEL_31d9669d059445ca934ca244a4455f17",
            "placeholder": "​",
            "style": "IPY_MODEL_dc264f6600864728b2b599152f9246ae",
            "value": " 26586/27560 [01:24&lt;00:00, 1146.48 file/s]"
          }
        },
        "9133c1b1195d4581bdd0c16541d78da3": {
          "model_module": "@jupyter-widgets/base",
          "model_name": "LayoutModel",
          "model_module_version": "1.2.0",
          "state": {
            "_model_module": "@jupyter-widgets/base",
            "_model_module_version": "1.2.0",
            "_model_name": "LayoutModel",
            "_view_count": null,
            "_view_module": "@jupyter-widgets/base",
            "_view_module_version": "1.2.0",
            "_view_name": "LayoutView",
            "align_content": null,
            "align_items": null,
            "align_self": null,
            "border": null,
            "bottom": null,
            "display": null,
            "flex": null,
            "flex_flow": null,
            "grid_area": null,
            "grid_auto_columns": null,
            "grid_auto_flow": null,
            "grid_auto_rows": null,
            "grid_column": null,
            "grid_gap": null,
            "grid_row": null,
            "grid_template_areas": null,
            "grid_template_columns": null,
            "grid_template_rows": null,
            "height": null,
            "justify_content": null,
            "justify_items": null,
            "left": null,
            "margin": null,
            "max_height": null,
            "max_width": null,
            "min_height": null,
            "min_width": null,
            "object_fit": null,
            "object_position": null,
            "order": null,
            "overflow": null,
            "overflow_x": null,
            "overflow_y": null,
            "padding": null,
            "right": null,
            "top": null,
            "visibility": null,
            "width": null
          }
        },
        "08d472088e2e4ee7ba82bce459451ebe": {
          "model_module": "@jupyter-widgets/base",
          "model_name": "LayoutModel",
          "model_module_version": "1.2.0",
          "state": {
            "_model_module": "@jupyter-widgets/base",
            "_model_module_version": "1.2.0",
            "_model_name": "LayoutModel",
            "_view_count": null,
            "_view_module": "@jupyter-widgets/base",
            "_view_module_version": "1.2.0",
            "_view_name": "LayoutView",
            "align_content": null,
            "align_items": null,
            "align_self": null,
            "border": null,
            "bottom": null,
            "display": null,
            "flex": null,
            "flex_flow": null,
            "grid_area": null,
            "grid_auto_columns": null,
            "grid_auto_flow": null,
            "grid_auto_rows": null,
            "grid_column": null,
            "grid_gap": null,
            "grid_row": null,
            "grid_template_areas": null,
            "grid_template_columns": null,
            "grid_template_rows": null,
            "height": null,
            "justify_content": null,
            "justify_items": null,
            "left": null,
            "margin": null,
            "max_height": null,
            "max_width": null,
            "min_height": null,
            "min_width": null,
            "object_fit": null,
            "object_position": null,
            "order": null,
            "overflow": null,
            "overflow_x": null,
            "overflow_y": null,
            "padding": null,
            "right": null,
            "top": null,
            "visibility": null,
            "width": null
          }
        },
        "762bf193c08c4fe683907f8e2d59b9b3": {
          "model_module": "@jupyter-widgets/controls",
          "model_name": "DescriptionStyleModel",
          "model_module_version": "1.5.0",
          "state": {
            "_model_module": "@jupyter-widgets/controls",
            "_model_module_version": "1.5.0",
            "_model_name": "DescriptionStyleModel",
            "_view_count": null,
            "_view_module": "@jupyter-widgets/base",
            "_view_module_version": "1.2.0",
            "_view_name": "StyleView",
            "description_width": ""
          }
        },
        "ff4a760651034daaab1ccb2756947a8a": {
          "model_module": "@jupyter-widgets/base",
          "model_name": "LayoutModel",
          "model_module_version": "1.2.0",
          "state": {
            "_model_module": "@jupyter-widgets/base",
            "_model_module_version": "1.2.0",
            "_model_name": "LayoutModel",
            "_view_count": null,
            "_view_module": "@jupyter-widgets/base",
            "_view_module_version": "1.2.0",
            "_view_name": "LayoutView",
            "align_content": null,
            "align_items": null,
            "align_self": null,
            "border": null,
            "bottom": null,
            "display": null,
            "flex": null,
            "flex_flow": null,
            "grid_area": null,
            "grid_auto_columns": null,
            "grid_auto_flow": null,
            "grid_auto_rows": null,
            "grid_column": null,
            "grid_gap": null,
            "grid_row": null,
            "grid_template_areas": null,
            "grid_template_columns": null,
            "grid_template_rows": null,
            "height": null,
            "justify_content": null,
            "justify_items": null,
            "left": null,
            "margin": null,
            "max_height": null,
            "max_width": null,
            "min_height": null,
            "min_width": null,
            "object_fit": null,
            "object_position": null,
            "order": null,
            "overflow": null,
            "overflow_x": null,
            "overflow_y": null,
            "padding": null,
            "right": null,
            "top": null,
            "visibility": null,
            "width": "20px"
          }
        },
        "14e8260e285f426a82134df241da148b": {
          "model_module": "@jupyter-widgets/controls",
          "model_name": "ProgressStyleModel",
          "model_module_version": "1.5.0",
          "state": {
            "_model_module": "@jupyter-widgets/controls",
            "_model_module_version": "1.5.0",
            "_model_name": "ProgressStyleModel",
            "_view_count": null,
            "_view_module": "@jupyter-widgets/base",
            "_view_module_version": "1.2.0",
            "_view_name": "StyleView",
            "bar_color": null,
            "description_width": ""
          }
        },
        "31d9669d059445ca934ca244a4455f17": {
          "model_module": "@jupyter-widgets/base",
          "model_name": "LayoutModel",
          "model_module_version": "1.2.0",
          "state": {
            "_model_module": "@jupyter-widgets/base",
            "_model_module_version": "1.2.0",
            "_model_name": "LayoutModel",
            "_view_count": null,
            "_view_module": "@jupyter-widgets/base",
            "_view_module_version": "1.2.0",
            "_view_name": "LayoutView",
            "align_content": null,
            "align_items": null,
            "align_self": null,
            "border": null,
            "bottom": null,
            "display": null,
            "flex": null,
            "flex_flow": null,
            "grid_area": null,
            "grid_auto_columns": null,
            "grid_auto_flow": null,
            "grid_auto_rows": null,
            "grid_column": null,
            "grid_gap": null,
            "grid_row": null,
            "grid_template_areas": null,
            "grid_template_columns": null,
            "grid_template_rows": null,
            "height": null,
            "justify_content": null,
            "justify_items": null,
            "left": null,
            "margin": null,
            "max_height": null,
            "max_width": null,
            "min_height": null,
            "min_width": null,
            "object_fit": null,
            "object_position": null,
            "order": null,
            "overflow": null,
            "overflow_x": null,
            "overflow_y": null,
            "padding": null,
            "right": null,
            "top": null,
            "visibility": null,
            "width": null
          }
        },
        "dc264f6600864728b2b599152f9246ae": {
          "model_module": "@jupyter-widgets/controls",
          "model_name": "DescriptionStyleModel",
          "model_module_version": "1.5.0",
          "state": {
            "_model_module": "@jupyter-widgets/controls",
            "_model_module_version": "1.5.0",
            "_model_name": "DescriptionStyleModel",
            "_view_count": null,
            "_view_module": "@jupyter-widgets/base",
            "_view_module_version": "1.2.0",
            "_view_name": "StyleView",
            "description_width": ""
          }
        },
        "65d25259850c4ae0b01ce0f56056840c": {
          "model_module": "@jupyter-widgets/controls",
          "model_name": "HBoxModel",
          "model_module_version": "1.5.0",
          "state": {
            "_dom_classes": [],
            "_model_module": "@jupyter-widgets/controls",
            "_model_module_version": "1.5.0",
            "_model_name": "HBoxModel",
            "_view_count": null,
            "_view_module": "@jupyter-widgets/controls",
            "_view_module_version": "1.5.0",
            "_view_name": "HBoxView",
            "box_style": "",
            "children": [
              "IPY_MODEL_2dcbd81810e345c8a16ba5b601935050",
              "IPY_MODEL_70c42596d0b343fea912dcca70e3d6a8",
              "IPY_MODEL_834d206954ed4f0b80a54669e9af2e7a"
            ],
            "layout": "IPY_MODEL_f4ff702f458947159568f47e559441d9"
          }
        },
        "2dcbd81810e345c8a16ba5b601935050": {
          "model_module": "@jupyter-widgets/controls",
          "model_name": "HTMLModel",
          "model_module_version": "1.5.0",
          "state": {
            "_dom_classes": [],
            "_model_module": "@jupyter-widgets/controls",
            "_model_module_version": "1.5.0",
            "_model_name": "HTMLModel",
            "_view_count": null,
            "_view_module": "@jupyter-widgets/controls",
            "_view_module_version": "1.5.0",
            "_view_name": "HTMLView",
            "description": "",
            "description_tooltip": null,
            "layout": "IPY_MODEL_65cbda4781af44d6b7bc026fc1136671",
            "placeholder": "​",
            "style": "IPY_MODEL_eae23d3bdcf7412fb5c3bd86383db450",
            "value": "Generating splits...: 100%"
          }
        },
        "70c42596d0b343fea912dcca70e3d6a8": {
          "model_module": "@jupyter-widgets/controls",
          "model_name": "FloatProgressModel",
          "model_module_version": "1.5.0",
          "state": {
            "_dom_classes": [],
            "_model_module": "@jupyter-widgets/controls",
            "_model_module_version": "1.5.0",
            "_model_name": "FloatProgressModel",
            "_view_count": null,
            "_view_module": "@jupyter-widgets/controls",
            "_view_module_version": "1.5.0",
            "_view_name": "ProgressView",
            "bar_style": "",
            "description": "",
            "description_tooltip": null,
            "layout": "IPY_MODEL_858a7559ec1b413da4513945b721dd45",
            "max": 1,
            "min": 0,
            "orientation": "horizontal",
            "style": "IPY_MODEL_6119c5dacc8147479eeef88bf7e2efd4",
            "value": 1
          }
        },
        "834d206954ed4f0b80a54669e9af2e7a": {
          "model_module": "@jupyter-widgets/controls",
          "model_name": "HTMLModel",
          "model_module_version": "1.5.0",
          "state": {
            "_dom_classes": [],
            "_model_module": "@jupyter-widgets/controls",
            "_model_module_version": "1.5.0",
            "_model_name": "HTMLModel",
            "_view_count": null,
            "_view_module": "@jupyter-widgets/controls",
            "_view_module_version": "1.5.0",
            "_view_name": "HTMLView",
            "description": "",
            "description_tooltip": null,
            "layout": "IPY_MODEL_f020a4e4bb334ed49cbc145d77225cf7",
            "placeholder": "​",
            "style": "IPY_MODEL_c0efc84aa1744f1f8484c8725630c18c",
            "value": " 1/1 [00:07&lt;00:00,  7.75s/ splits]"
          }
        },
        "f4ff702f458947159568f47e559441d9": {
          "model_module": "@jupyter-widgets/base",
          "model_name": "LayoutModel",
          "model_module_version": "1.2.0",
          "state": {
            "_model_module": "@jupyter-widgets/base",
            "_model_module_version": "1.2.0",
            "_model_name": "LayoutModel",
            "_view_count": null,
            "_view_module": "@jupyter-widgets/base",
            "_view_module_version": "1.2.0",
            "_view_name": "LayoutView",
            "align_content": null,
            "align_items": null,
            "align_self": null,
            "border": null,
            "bottom": null,
            "display": null,
            "flex": null,
            "flex_flow": null,
            "grid_area": null,
            "grid_auto_columns": null,
            "grid_auto_flow": null,
            "grid_auto_rows": null,
            "grid_column": null,
            "grid_gap": null,
            "grid_row": null,
            "grid_template_areas": null,
            "grid_template_columns": null,
            "grid_template_rows": null,
            "height": null,
            "justify_content": null,
            "justify_items": null,
            "left": null,
            "margin": null,
            "max_height": null,
            "max_width": null,
            "min_height": null,
            "min_width": null,
            "object_fit": null,
            "object_position": null,
            "order": null,
            "overflow": null,
            "overflow_x": null,
            "overflow_y": null,
            "padding": null,
            "right": null,
            "top": null,
            "visibility": "hidden",
            "width": null
          }
        },
        "65cbda4781af44d6b7bc026fc1136671": {
          "model_module": "@jupyter-widgets/base",
          "model_name": "LayoutModel",
          "model_module_version": "1.2.0",
          "state": {
            "_model_module": "@jupyter-widgets/base",
            "_model_module_version": "1.2.0",
            "_model_name": "LayoutModel",
            "_view_count": null,
            "_view_module": "@jupyter-widgets/base",
            "_view_module_version": "1.2.0",
            "_view_name": "LayoutView",
            "align_content": null,
            "align_items": null,
            "align_self": null,
            "border": null,
            "bottom": null,
            "display": null,
            "flex": null,
            "flex_flow": null,
            "grid_area": null,
            "grid_auto_columns": null,
            "grid_auto_flow": null,
            "grid_auto_rows": null,
            "grid_column": null,
            "grid_gap": null,
            "grid_row": null,
            "grid_template_areas": null,
            "grid_template_columns": null,
            "grid_template_rows": null,
            "height": null,
            "justify_content": null,
            "justify_items": null,
            "left": null,
            "margin": null,
            "max_height": null,
            "max_width": null,
            "min_height": null,
            "min_width": null,
            "object_fit": null,
            "object_position": null,
            "order": null,
            "overflow": null,
            "overflow_x": null,
            "overflow_y": null,
            "padding": null,
            "right": null,
            "top": null,
            "visibility": null,
            "width": null
          }
        },
        "eae23d3bdcf7412fb5c3bd86383db450": {
          "model_module": "@jupyter-widgets/controls",
          "model_name": "DescriptionStyleModel",
          "model_module_version": "1.5.0",
          "state": {
            "_model_module": "@jupyter-widgets/controls",
            "_model_module_version": "1.5.0",
            "_model_name": "DescriptionStyleModel",
            "_view_count": null,
            "_view_module": "@jupyter-widgets/base",
            "_view_module_version": "1.2.0",
            "_view_name": "StyleView",
            "description_width": ""
          }
        },
        "858a7559ec1b413da4513945b721dd45": {
          "model_module": "@jupyter-widgets/base",
          "model_name": "LayoutModel",
          "model_module_version": "1.2.0",
          "state": {
            "_model_module": "@jupyter-widgets/base",
            "_model_module_version": "1.2.0",
            "_model_name": "LayoutModel",
            "_view_count": null,
            "_view_module": "@jupyter-widgets/base",
            "_view_module_version": "1.2.0",
            "_view_name": "LayoutView",
            "align_content": null,
            "align_items": null,
            "align_self": null,
            "border": null,
            "bottom": null,
            "display": null,
            "flex": null,
            "flex_flow": null,
            "grid_area": null,
            "grid_auto_columns": null,
            "grid_auto_flow": null,
            "grid_auto_rows": null,
            "grid_column": null,
            "grid_gap": null,
            "grid_row": null,
            "grid_template_areas": null,
            "grid_template_columns": null,
            "grid_template_rows": null,
            "height": null,
            "justify_content": null,
            "justify_items": null,
            "left": null,
            "margin": null,
            "max_height": null,
            "max_width": null,
            "min_height": null,
            "min_width": null,
            "object_fit": null,
            "object_position": null,
            "order": null,
            "overflow": null,
            "overflow_x": null,
            "overflow_y": null,
            "padding": null,
            "right": null,
            "top": null,
            "visibility": null,
            "width": null
          }
        },
        "6119c5dacc8147479eeef88bf7e2efd4": {
          "model_module": "@jupyter-widgets/controls",
          "model_name": "ProgressStyleModel",
          "model_module_version": "1.5.0",
          "state": {
            "_model_module": "@jupyter-widgets/controls",
            "_model_module_version": "1.5.0",
            "_model_name": "ProgressStyleModel",
            "_view_count": null,
            "_view_module": "@jupyter-widgets/base",
            "_view_module_version": "1.2.0",
            "_view_name": "StyleView",
            "bar_color": null,
            "description_width": ""
          }
        },
        "f020a4e4bb334ed49cbc145d77225cf7": {
          "model_module": "@jupyter-widgets/base",
          "model_name": "LayoutModel",
          "model_module_version": "1.2.0",
          "state": {
            "_model_module": "@jupyter-widgets/base",
            "_model_module_version": "1.2.0",
            "_model_name": "LayoutModel",
            "_view_count": null,
            "_view_module": "@jupyter-widgets/base",
            "_view_module_version": "1.2.0",
            "_view_name": "LayoutView",
            "align_content": null,
            "align_items": null,
            "align_self": null,
            "border": null,
            "bottom": null,
            "display": null,
            "flex": null,
            "flex_flow": null,
            "grid_area": null,
            "grid_auto_columns": null,
            "grid_auto_flow": null,
            "grid_auto_rows": null,
            "grid_column": null,
            "grid_gap": null,
            "grid_row": null,
            "grid_template_areas": null,
            "grid_template_columns": null,
            "grid_template_rows": null,
            "height": null,
            "justify_content": null,
            "justify_items": null,
            "left": null,
            "margin": null,
            "max_height": null,
            "max_width": null,
            "min_height": null,
            "min_width": null,
            "object_fit": null,
            "object_position": null,
            "order": null,
            "overflow": null,
            "overflow_x": null,
            "overflow_y": null,
            "padding": null,
            "right": null,
            "top": null,
            "visibility": null,
            "width": null
          }
        },
        "c0efc84aa1744f1f8484c8725630c18c": {
          "model_module": "@jupyter-widgets/controls",
          "model_name": "DescriptionStyleModel",
          "model_module_version": "1.5.0",
          "state": {
            "_model_module": "@jupyter-widgets/controls",
            "_model_module_version": "1.5.0",
            "_model_name": "DescriptionStyleModel",
            "_view_count": null,
            "_view_module": "@jupyter-widgets/base",
            "_view_module_version": "1.2.0",
            "_view_name": "StyleView",
            "description_width": ""
          }
        },
        "c06c952a428d446aa82c9a78720441ad": {
          "model_module": "@jupyter-widgets/controls",
          "model_name": "HBoxModel",
          "model_module_version": "1.5.0",
          "state": {
            "_dom_classes": [],
            "_model_module": "@jupyter-widgets/controls",
            "_model_module_version": "1.5.0",
            "_model_name": "HBoxModel",
            "_view_count": null,
            "_view_module": "@jupyter-widgets/controls",
            "_view_module_version": "1.5.0",
            "_view_name": "HBoxView",
            "box_style": "",
            "children": [
              "IPY_MODEL_16cb0ff305304ca1a1eb6d573fa1e54a",
              "IPY_MODEL_d7d3c18f4974445fad45b2b5ba4ce280",
              "IPY_MODEL_6a6eae4da1414c248e94088239d10dc6"
            ],
            "layout": "IPY_MODEL_331a0e04229f42cda1b2b4cbac68af16"
          }
        },
        "16cb0ff305304ca1a1eb6d573fa1e54a": {
          "model_module": "@jupyter-widgets/controls",
          "model_name": "HTMLModel",
          "model_module_version": "1.5.0",
          "state": {
            "_dom_classes": [],
            "_model_module": "@jupyter-widgets/controls",
            "_model_module_version": "1.5.0",
            "_model_name": "HTMLModel",
            "_view_count": null,
            "_view_module": "@jupyter-widgets/controls",
            "_view_module_version": "1.5.0",
            "_view_name": "HTMLView",
            "description": "",
            "description_tooltip": null,
            "layout": "IPY_MODEL_b6c3b5012fdc483bba2163d4c73a03ce",
            "placeholder": "​",
            "style": "IPY_MODEL_b3f13e1f904e4d45a214ce283b70e33e",
            "value": "Generating train examples...: "
          }
        },
        "d7d3c18f4974445fad45b2b5ba4ce280": {
          "model_module": "@jupyter-widgets/controls",
          "model_name": "FloatProgressModel",
          "model_module_version": "1.5.0",
          "state": {
            "_dom_classes": [],
            "_model_module": "@jupyter-widgets/controls",
            "_model_module_version": "1.5.0",
            "_model_name": "FloatProgressModel",
            "_view_count": null,
            "_view_module": "@jupyter-widgets/controls",
            "_view_module_version": "1.5.0",
            "_view_name": "ProgressView",
            "bar_style": "info",
            "description": "",
            "description_tooltip": null,
            "layout": "IPY_MODEL_1bbb5545e3524029b980aeef3a97de14",
            "max": 1,
            "min": 0,
            "orientation": "horizontal",
            "style": "IPY_MODEL_8951463abba4465a98abb862891f8a9d",
            "value": 1
          }
        },
        "6a6eae4da1414c248e94088239d10dc6": {
          "model_module": "@jupyter-widgets/controls",
          "model_name": "HTMLModel",
          "model_module_version": "1.5.0",
          "state": {
            "_dom_classes": [],
            "_model_module": "@jupyter-widgets/controls",
            "_model_module_version": "1.5.0",
            "_model_name": "HTMLModel",
            "_view_count": null,
            "_view_module": "@jupyter-widgets/controls",
            "_view_module_version": "1.5.0",
            "_view_name": "HTMLView",
            "description": "",
            "description_tooltip": null,
            "layout": "IPY_MODEL_5015a20e8bdf4f53b8c412b0a1bdf8f8",
            "placeholder": "​",
            "style": "IPY_MODEL_53d6524aef954d8b982ecdbf290509a7",
            "value": " 27117/? [00:06&lt;00:00, 6027.79 examples/s]"
          }
        },
        "331a0e04229f42cda1b2b4cbac68af16": {
          "model_module": "@jupyter-widgets/base",
          "model_name": "LayoutModel",
          "model_module_version": "1.2.0",
          "state": {
            "_model_module": "@jupyter-widgets/base",
            "_model_module_version": "1.2.0",
            "_model_name": "LayoutModel",
            "_view_count": null,
            "_view_module": "@jupyter-widgets/base",
            "_view_module_version": "1.2.0",
            "_view_name": "LayoutView",
            "align_content": null,
            "align_items": null,
            "align_self": null,
            "border": null,
            "bottom": null,
            "display": null,
            "flex": null,
            "flex_flow": null,
            "grid_area": null,
            "grid_auto_columns": null,
            "grid_auto_flow": null,
            "grid_auto_rows": null,
            "grid_column": null,
            "grid_gap": null,
            "grid_row": null,
            "grid_template_areas": null,
            "grid_template_columns": null,
            "grid_template_rows": null,
            "height": null,
            "justify_content": null,
            "justify_items": null,
            "left": null,
            "margin": null,
            "max_height": null,
            "max_width": null,
            "min_height": null,
            "min_width": null,
            "object_fit": null,
            "object_position": null,
            "order": null,
            "overflow": null,
            "overflow_x": null,
            "overflow_y": null,
            "padding": null,
            "right": null,
            "top": null,
            "visibility": "hidden",
            "width": null
          }
        },
        "b6c3b5012fdc483bba2163d4c73a03ce": {
          "model_module": "@jupyter-widgets/base",
          "model_name": "LayoutModel",
          "model_module_version": "1.2.0",
          "state": {
            "_model_module": "@jupyter-widgets/base",
            "_model_module_version": "1.2.0",
            "_model_name": "LayoutModel",
            "_view_count": null,
            "_view_module": "@jupyter-widgets/base",
            "_view_module_version": "1.2.0",
            "_view_name": "LayoutView",
            "align_content": null,
            "align_items": null,
            "align_self": null,
            "border": null,
            "bottom": null,
            "display": null,
            "flex": null,
            "flex_flow": null,
            "grid_area": null,
            "grid_auto_columns": null,
            "grid_auto_flow": null,
            "grid_auto_rows": null,
            "grid_column": null,
            "grid_gap": null,
            "grid_row": null,
            "grid_template_areas": null,
            "grid_template_columns": null,
            "grid_template_rows": null,
            "height": null,
            "justify_content": null,
            "justify_items": null,
            "left": null,
            "margin": null,
            "max_height": null,
            "max_width": null,
            "min_height": null,
            "min_width": null,
            "object_fit": null,
            "object_position": null,
            "order": null,
            "overflow": null,
            "overflow_x": null,
            "overflow_y": null,
            "padding": null,
            "right": null,
            "top": null,
            "visibility": null,
            "width": null
          }
        },
        "b3f13e1f904e4d45a214ce283b70e33e": {
          "model_module": "@jupyter-widgets/controls",
          "model_name": "DescriptionStyleModel",
          "model_module_version": "1.5.0",
          "state": {
            "_model_module": "@jupyter-widgets/controls",
            "_model_module_version": "1.5.0",
            "_model_name": "DescriptionStyleModel",
            "_view_count": null,
            "_view_module": "@jupyter-widgets/base",
            "_view_module_version": "1.2.0",
            "_view_name": "StyleView",
            "description_width": ""
          }
        },
        "1bbb5545e3524029b980aeef3a97de14": {
          "model_module": "@jupyter-widgets/base",
          "model_name": "LayoutModel",
          "model_module_version": "1.2.0",
          "state": {
            "_model_module": "@jupyter-widgets/base",
            "_model_module_version": "1.2.0",
            "_model_name": "LayoutModel",
            "_view_count": null,
            "_view_module": "@jupyter-widgets/base",
            "_view_module_version": "1.2.0",
            "_view_name": "LayoutView",
            "align_content": null,
            "align_items": null,
            "align_self": null,
            "border": null,
            "bottom": null,
            "display": null,
            "flex": null,
            "flex_flow": null,
            "grid_area": null,
            "grid_auto_columns": null,
            "grid_auto_flow": null,
            "grid_auto_rows": null,
            "grid_column": null,
            "grid_gap": null,
            "grid_row": null,
            "grid_template_areas": null,
            "grid_template_columns": null,
            "grid_template_rows": null,
            "height": null,
            "justify_content": null,
            "justify_items": null,
            "left": null,
            "margin": null,
            "max_height": null,
            "max_width": null,
            "min_height": null,
            "min_width": null,
            "object_fit": null,
            "object_position": null,
            "order": null,
            "overflow": null,
            "overflow_x": null,
            "overflow_y": null,
            "padding": null,
            "right": null,
            "top": null,
            "visibility": null,
            "width": "20px"
          }
        },
        "8951463abba4465a98abb862891f8a9d": {
          "model_module": "@jupyter-widgets/controls",
          "model_name": "ProgressStyleModel",
          "model_module_version": "1.5.0",
          "state": {
            "_model_module": "@jupyter-widgets/controls",
            "_model_module_version": "1.5.0",
            "_model_name": "ProgressStyleModel",
            "_view_count": null,
            "_view_module": "@jupyter-widgets/base",
            "_view_module_version": "1.2.0",
            "_view_name": "StyleView",
            "bar_color": null,
            "description_width": ""
          }
        },
        "5015a20e8bdf4f53b8c412b0a1bdf8f8": {
          "model_module": "@jupyter-widgets/base",
          "model_name": "LayoutModel",
          "model_module_version": "1.2.0",
          "state": {
            "_model_module": "@jupyter-widgets/base",
            "_model_module_version": "1.2.0",
            "_model_name": "LayoutModel",
            "_view_count": null,
            "_view_module": "@jupyter-widgets/base",
            "_view_module_version": "1.2.0",
            "_view_name": "LayoutView",
            "align_content": null,
            "align_items": null,
            "align_self": null,
            "border": null,
            "bottom": null,
            "display": null,
            "flex": null,
            "flex_flow": null,
            "grid_area": null,
            "grid_auto_columns": null,
            "grid_auto_flow": null,
            "grid_auto_rows": null,
            "grid_column": null,
            "grid_gap": null,
            "grid_row": null,
            "grid_template_areas": null,
            "grid_template_columns": null,
            "grid_template_rows": null,
            "height": null,
            "justify_content": null,
            "justify_items": null,
            "left": null,
            "margin": null,
            "max_height": null,
            "max_width": null,
            "min_height": null,
            "min_width": null,
            "object_fit": null,
            "object_position": null,
            "order": null,
            "overflow": null,
            "overflow_x": null,
            "overflow_y": null,
            "padding": null,
            "right": null,
            "top": null,
            "visibility": null,
            "width": null
          }
        },
        "53d6524aef954d8b982ecdbf290509a7": {
          "model_module": "@jupyter-widgets/controls",
          "model_name": "DescriptionStyleModel",
          "model_module_version": "1.5.0",
          "state": {
            "_model_module": "@jupyter-widgets/controls",
            "_model_module_version": "1.5.0",
            "_model_name": "DescriptionStyleModel",
            "_view_count": null,
            "_view_module": "@jupyter-widgets/base",
            "_view_module_version": "1.2.0",
            "_view_name": "StyleView",
            "description_width": ""
          }
        },
        "132bba80a5944c1bbfe8332b63a58969": {
          "model_module": "@jupyter-widgets/controls",
          "model_name": "HBoxModel",
          "model_module_version": "1.5.0",
          "state": {
            "_dom_classes": [],
            "_model_module": "@jupyter-widgets/controls",
            "_model_module_version": "1.5.0",
            "_model_name": "HBoxModel",
            "_view_count": null,
            "_view_module": "@jupyter-widgets/controls",
            "_view_module_version": "1.5.0",
            "_view_name": "HBoxView",
            "box_style": "",
            "children": [
              "IPY_MODEL_a16dd82980c04cfa962b4a0c6644f5c6",
              "IPY_MODEL_73fe0d065ee64804a78df1ee0a08ea44",
              "IPY_MODEL_b8ba1e55db9c4281b16dc019ae23fc5e"
            ],
            "layout": "IPY_MODEL_d25b9dc43c714e3f8d74e723d8767fdb"
          }
        },
        "a16dd82980c04cfa962b4a0c6644f5c6": {
          "model_module": "@jupyter-widgets/controls",
          "model_name": "HTMLModel",
          "model_module_version": "1.5.0",
          "state": {
            "_dom_classes": [],
            "_model_module": "@jupyter-widgets/controls",
            "_model_module_version": "1.5.0",
            "_model_name": "HTMLModel",
            "_view_count": null,
            "_view_module": "@jupyter-widgets/controls",
            "_view_module_version": "1.5.0",
            "_view_name": "HTMLView",
            "description": "",
            "description_tooltip": null,
            "layout": "IPY_MODEL_cdcc49b73f1d40d2b51320c689662e11",
            "placeholder": "​",
            "style": "IPY_MODEL_a64f6ba747d94740a653887fdbe576f7",
            "value": "Shuffling /root/tensorflow_datasets/malaria/1.0.0.incompleteXFV2S4/malaria-train.tfrecord*...:  99%"
          }
        },
        "73fe0d065ee64804a78df1ee0a08ea44": {
          "model_module": "@jupyter-widgets/controls",
          "model_name": "FloatProgressModel",
          "model_module_version": "1.5.0",
          "state": {
            "_dom_classes": [],
            "_model_module": "@jupyter-widgets/controls",
            "_model_module_version": "1.5.0",
            "_model_name": "FloatProgressModel",
            "_view_count": null,
            "_view_module": "@jupyter-widgets/controls",
            "_view_module_version": "1.5.0",
            "_view_name": "ProgressView",
            "bar_style": "",
            "description": "",
            "description_tooltip": null,
            "layout": "IPY_MODEL_8c28be64488c45119ac904d0826c22f2",
            "max": 27558,
            "min": 0,
            "orientation": "horizontal",
            "style": "IPY_MODEL_50696e96c12249e480de8af50ea9feb5",
            "value": 27558
          }
        },
        "b8ba1e55db9c4281b16dc019ae23fc5e": {
          "model_module": "@jupyter-widgets/controls",
          "model_name": "HTMLModel",
          "model_module_version": "1.5.0",
          "state": {
            "_dom_classes": [],
            "_model_module": "@jupyter-widgets/controls",
            "_model_module_version": "1.5.0",
            "_model_name": "HTMLModel",
            "_view_count": null,
            "_view_module": "@jupyter-widgets/controls",
            "_view_module_version": "1.5.0",
            "_view_name": "HTMLView",
            "description": "",
            "description_tooltip": null,
            "layout": "IPY_MODEL_2ddc9f23cb5f46e6b848da3a6cf4f01b",
            "placeholder": "​",
            "style": "IPY_MODEL_2f7af9d2162a41e3a8697e95d098d932",
            "value": " 27385/27558 [00:00&lt;00:00, 25929.20 examples/s]"
          }
        },
        "d25b9dc43c714e3f8d74e723d8767fdb": {
          "model_module": "@jupyter-widgets/base",
          "model_name": "LayoutModel",
          "model_module_version": "1.2.0",
          "state": {
            "_model_module": "@jupyter-widgets/base",
            "_model_module_version": "1.2.0",
            "_model_name": "LayoutModel",
            "_view_count": null,
            "_view_module": "@jupyter-widgets/base",
            "_view_module_version": "1.2.0",
            "_view_name": "LayoutView",
            "align_content": null,
            "align_items": null,
            "align_self": null,
            "border": null,
            "bottom": null,
            "display": null,
            "flex": null,
            "flex_flow": null,
            "grid_area": null,
            "grid_auto_columns": null,
            "grid_auto_flow": null,
            "grid_auto_rows": null,
            "grid_column": null,
            "grid_gap": null,
            "grid_row": null,
            "grid_template_areas": null,
            "grid_template_columns": null,
            "grid_template_rows": null,
            "height": null,
            "justify_content": null,
            "justify_items": null,
            "left": null,
            "margin": null,
            "max_height": null,
            "max_width": null,
            "min_height": null,
            "min_width": null,
            "object_fit": null,
            "object_position": null,
            "order": null,
            "overflow": null,
            "overflow_x": null,
            "overflow_y": null,
            "padding": null,
            "right": null,
            "top": null,
            "visibility": "hidden",
            "width": null
          }
        },
        "cdcc49b73f1d40d2b51320c689662e11": {
          "model_module": "@jupyter-widgets/base",
          "model_name": "LayoutModel",
          "model_module_version": "1.2.0",
          "state": {
            "_model_module": "@jupyter-widgets/base",
            "_model_module_version": "1.2.0",
            "_model_name": "LayoutModel",
            "_view_count": null,
            "_view_module": "@jupyter-widgets/base",
            "_view_module_version": "1.2.0",
            "_view_name": "LayoutView",
            "align_content": null,
            "align_items": null,
            "align_self": null,
            "border": null,
            "bottom": null,
            "display": null,
            "flex": null,
            "flex_flow": null,
            "grid_area": null,
            "grid_auto_columns": null,
            "grid_auto_flow": null,
            "grid_auto_rows": null,
            "grid_column": null,
            "grid_gap": null,
            "grid_row": null,
            "grid_template_areas": null,
            "grid_template_columns": null,
            "grid_template_rows": null,
            "height": null,
            "justify_content": null,
            "justify_items": null,
            "left": null,
            "margin": null,
            "max_height": null,
            "max_width": null,
            "min_height": null,
            "min_width": null,
            "object_fit": null,
            "object_position": null,
            "order": null,
            "overflow": null,
            "overflow_x": null,
            "overflow_y": null,
            "padding": null,
            "right": null,
            "top": null,
            "visibility": null,
            "width": null
          }
        },
        "a64f6ba747d94740a653887fdbe576f7": {
          "model_module": "@jupyter-widgets/controls",
          "model_name": "DescriptionStyleModel",
          "model_module_version": "1.5.0",
          "state": {
            "_model_module": "@jupyter-widgets/controls",
            "_model_module_version": "1.5.0",
            "_model_name": "DescriptionStyleModel",
            "_view_count": null,
            "_view_module": "@jupyter-widgets/base",
            "_view_module_version": "1.2.0",
            "_view_name": "StyleView",
            "description_width": ""
          }
        },
        "8c28be64488c45119ac904d0826c22f2": {
          "model_module": "@jupyter-widgets/base",
          "model_name": "LayoutModel",
          "model_module_version": "1.2.0",
          "state": {
            "_model_module": "@jupyter-widgets/base",
            "_model_module_version": "1.2.0",
            "_model_name": "LayoutModel",
            "_view_count": null,
            "_view_module": "@jupyter-widgets/base",
            "_view_module_version": "1.2.0",
            "_view_name": "LayoutView",
            "align_content": null,
            "align_items": null,
            "align_self": null,
            "border": null,
            "bottom": null,
            "display": null,
            "flex": null,
            "flex_flow": null,
            "grid_area": null,
            "grid_auto_columns": null,
            "grid_auto_flow": null,
            "grid_auto_rows": null,
            "grid_column": null,
            "grid_gap": null,
            "grid_row": null,
            "grid_template_areas": null,
            "grid_template_columns": null,
            "grid_template_rows": null,
            "height": null,
            "justify_content": null,
            "justify_items": null,
            "left": null,
            "margin": null,
            "max_height": null,
            "max_width": null,
            "min_height": null,
            "min_width": null,
            "object_fit": null,
            "object_position": null,
            "order": null,
            "overflow": null,
            "overflow_x": null,
            "overflow_y": null,
            "padding": null,
            "right": null,
            "top": null,
            "visibility": null,
            "width": null
          }
        },
        "50696e96c12249e480de8af50ea9feb5": {
          "model_module": "@jupyter-widgets/controls",
          "model_name": "ProgressStyleModel",
          "model_module_version": "1.5.0",
          "state": {
            "_model_module": "@jupyter-widgets/controls",
            "_model_module_version": "1.5.0",
            "_model_name": "ProgressStyleModel",
            "_view_count": null,
            "_view_module": "@jupyter-widgets/base",
            "_view_module_version": "1.2.0",
            "_view_name": "StyleView",
            "bar_color": null,
            "description_width": ""
          }
        },
        "2ddc9f23cb5f46e6b848da3a6cf4f01b": {
          "model_module": "@jupyter-widgets/base",
          "model_name": "LayoutModel",
          "model_module_version": "1.2.0",
          "state": {
            "_model_module": "@jupyter-widgets/base",
            "_model_module_version": "1.2.0",
            "_model_name": "LayoutModel",
            "_view_count": null,
            "_view_module": "@jupyter-widgets/base",
            "_view_module_version": "1.2.0",
            "_view_name": "LayoutView",
            "align_content": null,
            "align_items": null,
            "align_self": null,
            "border": null,
            "bottom": null,
            "display": null,
            "flex": null,
            "flex_flow": null,
            "grid_area": null,
            "grid_auto_columns": null,
            "grid_auto_flow": null,
            "grid_auto_rows": null,
            "grid_column": null,
            "grid_gap": null,
            "grid_row": null,
            "grid_template_areas": null,
            "grid_template_columns": null,
            "grid_template_rows": null,
            "height": null,
            "justify_content": null,
            "justify_items": null,
            "left": null,
            "margin": null,
            "max_height": null,
            "max_width": null,
            "min_height": null,
            "min_width": null,
            "object_fit": null,
            "object_position": null,
            "order": null,
            "overflow": null,
            "overflow_x": null,
            "overflow_y": null,
            "padding": null,
            "right": null,
            "top": null,
            "visibility": null,
            "width": null
          }
        },
        "2f7af9d2162a41e3a8697e95d098d932": {
          "model_module": "@jupyter-widgets/controls",
          "model_name": "DescriptionStyleModel",
          "model_module_version": "1.5.0",
          "state": {
            "_model_module": "@jupyter-widgets/controls",
            "_model_module_version": "1.5.0",
            "_model_name": "DescriptionStyleModel",
            "_view_count": null,
            "_view_module": "@jupyter-widgets/base",
            "_view_module_version": "1.2.0",
            "_view_name": "StyleView",
            "description_width": ""
          }
        }
      }
    }
  },
  "nbformat": 4,
  "nbformat_minor": 0
}